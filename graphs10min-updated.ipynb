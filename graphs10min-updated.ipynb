{
 "cells": [
  {
   "cell_type": "markdown",
   "metadata": {},
   "source": [
    "\n",
    "<h1 class=\"notebook-title\"> Using Packet Rate Data to Detect Ongoing DoS Attacks </h1>"
   ]
  },
  {
   "cell_type": "markdown",
   "metadata": {},
   "source": [
    "In this notebook, we look to examine data on packets collected from vSocial, a Virtual Reality Learning Environment, during periods of normal activity along with samples collected during simulated DoS attacks (packet duplication, tampering, and dropping attacks). We first organize and restructure the data to get necessary statistics such as total packets sent over time and changes in packet speed over time, and we plot these measurements to compare discrepencies between each of the behaviors (normal vs. various DoS attacks). The final goal is to develop a detection algorithm that accurately classifies whether the current packet data implies normal behavior or the ongoing activities of one of the attacks. We use time series feature extraction to discover quantitative parameters from samples of packet speed over a period of time, and then are able to train various supervised machine learning models to attempt to classify a given situation. A variety of models are tested and compared for accuracy, and the most successful models for us were found to be implementations of K Nearest Neighbors, Random Forests, and a Voting Classifier combining the use of both."
   ]
  },
  {
   "cell_type": "markdown",
   "metadata": {},
   "source": [
    "<div class=\"outline\">\n",
    "\n",
    "----------------------------- Notebook Outline -----------------------------\n",
    "\n",
    "<ul> \n",
    "    <br>\n",
    "\n",
    "    <li>\n",
    "        <a href=\"#Libraries\">Libraries</a>\n",
    "    </li>\n",
    "    \n",
    "    <br>\n",
    "    \n",
    "    <li>\n",
    "        <a href=\"#Data\">Data</a>\n",
    "        <ul>\n",
    "          <li><a href=\"#Data-a\">A. Normal Behavior</a></li>\n",
    "          <li><a href=\"#Data-b\">B. Duplication Attack</a></li>\n",
    "          <li><a href=\"#Data-c\">C. Tampering Attack</a></li>\n",
    "          <li><a href=\"#Data-d\">D. Dropping Attack</a></li>\n",
    "        </ul>\n",
    "    </li>\n",
    "\n",
    "    <br>\n",
    "    \n",
    "    <li>\n",
    "        <a href=\"#Visualizations\">Visualizations</a>\n",
    "        <ul>\n",
    "          <li>\n",
    "              <a href=\"#Visualizations-a\">A. Total Packets Sent Over Time</a>\n",
    "              <ul>\n",
    "                  <li><a href=\"#Visualizations-a-i\">i. Normal Behavior</a></li>\n",
    "                  <li><a href=\"#Visualizations-a-ii\">ii. Duplication Attack</a></li>\n",
    "                  <li><a href=\"#Visualizations-a-iii\">iii. Tampering Attack</a></li>\n",
    "                  <li><a href=\"#Visualizations-a-iv\">iv. Dropping Attack</a></li>\n",
    "              </ul>\n",
    "          </li>\n",
    "          <br>\n",
    "          <li>\n",
    "              <a href=\"#Visualizations-b\">B. Packet Rate Changes Over Time</a>\n",
    "              <ul>\n",
    "                  <li><a href=\"#Visualizations-b-i\">i. Normal Behavior</a></li>\n",
    "                  <li><a href=\"#Visualizations-b-ii\">ii. Duplication Attack</a></li>\n",
    "                  <li><a href=\"#Visualizations-b-iii\">iii. Tampering Attack</a></li>\n",
    "                  <li><a href=\"#Visualizations-b-iv\">iv. Dropping Attack</a></li>\n",
    "              </ul>\n",
    "          </li>\n",
    "          <br>\n",
    "          <li><a href=\"#Visualizations-c\">C. Interactive Plot</a></li>\n",
    "        </ul>\n",
    "    </li>\n",
    "    \n",
    "    <br>\n",
    "    \n",
    "    <li>\n",
    "        <a href=\"#Classifiers\">Classifiers</a>\n",
    "        <ul>\n",
    "          <li>\n",
    "              <a href=\"#Classifiers-a\">A. Feature Extraction</a>\n",
    "              <ul>\n",
    "                  <li><a href=\"#Classifiers-a-i\">i. tsfresh</a></li>\n",
    "              </ul>\n",
    "          </li>\n",
    "          <br>\n",
    "          <li>\n",
    "              <a href=\"#Classifiers-b\">B. Feature Filtering</a>\n",
    "              <ul>\n",
    "                  <li><a href=\"#Classifiers-b-i\">i. tsfresh</a></li>\n",
    "                  <li><a href=\"#Classifiers-b-ii\">ii. Select K Best</a></li>\n",
    "                  <li><a href=\"#Classifiers-b-iii\">iii. Principal Component Analysis</a></li>\n",
    "              </ul>\n",
    "          </li>\n",
    "          <br>\n",
    "          <li>\n",
    "              <a href=\"#Classifiers-c\">C. Machine Learning Models</a>\n",
    "              <ul>\n",
    "                  <li><a href=\"#Classifiers-c-i\">i. Decision Tree</a></li>\n",
    "                  <li><a href=\"#Classifiers-c-ii\">ii. Multilayer Perceptron (Neural Network)</a></li>\n",
    "                  <li><a href=\"#Classifiers-c-iii\">iii. SVC</a></li>\n",
    "                  <li><a href=\"#Classifiers-c-iv\">iv. Logistic Regression</a></li>\n",
    "                  <li><a href=\"#Classifiers-c-v\">v. K Nearest Neighbors</a></li>\n",
    "                  <li><a href=\"#Classifiers-c-vi\">vi. Random Forests</a></li>\n",
    "                  <li><a href=\"#Classifiers-c-v\">v. K Nearest Neighbors + Random Forests Voting</a></li>                  \n",
    "              </ul>\n",
    "          </li>\n",
    "          <br>\n",
    "        </ul>\n",
    "    </li>\n",
    "    \n",
    "    <li>\n",
    "        <a href=\"#Results\">Results</a>\n",
    "        <ul>\n",
    "          <li>\n",
    "              <a href=\"#Results-a\">A. Decision Tree</a>\n",
    "          </li>\n",
    "          <li>\n",
    "              <a href=\"#Results-b\">B. K Nearest Neighbors</a>\n",
    "          </li>\n",
    "          <li>\n",
    "              <a href=\"#Results-c\">C. Random Forests</a>\n",
    "          </li>\n",
    "          <li>\n",
    "              <a href=\"#Results-d\">D. K Nearest Neighbors + Random Forests Voting</a>\n",
    "          </li>\n",
    "        </ul>\n",
    "    </li>\n",
    "\n",
    "\n",
    "</ul>\n",
    "\n",
    "</div>"
   ]
  },
  {
   "cell_type": "markdown",
   "metadata": {},
   "source": [
    "<h1 class=\"section-header\"><a id=\"Libraries\"></a>Libraries</h1>"
   ]
  },
  {
   "cell_type": "code",
   "execution_count": 250,
   "metadata": {},
   "outputs": [
    {
     "data": {
      "text/html": [
       "        <script type=\"text/javascript\">\n",
       "        window.PlotlyConfig = {MathJaxConfig: 'local'};\n",
       "        if (window.MathJax) {MathJax.Hub.Config({SVG: {font: \"STIX-Web\"}});}\n",
       "        if (typeof require !== 'undefined') {\n",
       "        require.undef(\"plotly\");\n",
       "        requirejs.config({\n",
       "            paths: {\n",
       "                'plotly': ['https://cdn.plot.ly/plotly-latest.min']\n",
       "            }\n",
       "        });\n",
       "        require(['plotly'], function(Plotly) {\n",
       "            window._Plotly = Plotly;\n",
       "        });\n",
       "        }\n",
       "        </script>\n",
       "        "
      ]
     },
     "metadata": {},
     "output_type": "display_data"
    }
   ],
   "source": [
    "import warnings\n",
    "warnings.filterwarnings('ignore')\n",
    "\n",
    "import pandas as pd\n",
    "import numpy as np\n",
    "import matplotlib.pyplot as plt\n",
    "import time as time\n",
    "\n",
    "import plotly.graph_objs as go\n",
    "from plotly.offline import iplot, init_notebook_mode, plot\n",
    "init_notebook_mode(connected=True)\n",
    "\n",
    "import random\n",
    "\n",
    "from tsfresh.examples.robot_execution_failures import download_robot_execution_failures, load_robot_execution_failures\n",
    "from tsfresh import extract_features, extract_relevant_features, select_features\n",
    "from tsfresh.utilities.dataframe_functions import impute\n",
    "from tsfresh.feature_extraction import ComprehensiveFCParameters\n",
    "from sklearn.naive_bayes import GaussianNB\n",
    "from sklearn.tree import DecisionTreeClassifier\n",
    "from sklearn.model_selection import train_test_split\n",
    "from sklearn.metrics import classification_report, recall_score, precision_score\n",
    "from sklearn.svm import LinearSVC\n",
    "from sklearn.svm import SVC\n",
    "from sklearn.neural_network import MLPClassifier\n",
    "from sklearn.feature_selection import SelectKBest\n",
    "from sklearn.feature_selection import f_classif\n",
    "from sklearn.decomposition import PCA\n",
    "from sklearn.preprocessing import StandardScaler\n",
    "from sklearn.linear_model import LogisticRegression\n",
    "from sklearn.neighbors import KNeighborsClassifier\n",
    "from sklearn.ensemble import RandomForestClassifier\n",
    "from sklearn.ensemble import VotingClassifier\n",
    "from skmultilearn.adapt import MLkNN\n",
    "from sklearn.model_selection import GridSearchCV\n",
    "from skmultilearn.problem_transform import ClassifierChain\n",
    "from skmultilearn.problem_transform import LabelPowerset\n",
    "from sklearn.metrics import confusion_matrix\n",
    "from statistics import mean\n",
    "from scipy.stats import pearsonr"
   ]
  },
  {
   "cell_type": "markdown",
   "metadata": {},
   "source": [
    "<h1 class=\"section-header\"><a id=\"Data\"></a>Data</h1>"
   ]
  },
  {
   "cell_type": "markdown",
   "metadata": {},
   "source": [
    "<h1><a id=\"Data-a\"></a>A. Normal Behavior</h1>"
   ]
  },
  {
   "cell_type": "code",
   "execution_count": 251,
   "metadata": {},
   "outputs": [
    {
     "data": {
      "text/html": [
       "<div>\n",
       "<style scoped>\n",
       "    .dataframe tbody tr th:only-of-type {\n",
       "        vertical-align: middle;\n",
       "    }\n",
       "\n",
       "    .dataframe tbody tr th {\n",
       "        vertical-align: top;\n",
       "    }\n",
       "\n",
       "    .dataframe thead th {\n",
       "        text-align: right;\n",
       "    }\n",
       "</style>\n",
       "<table border=\"1\" class=\"dataframe\">\n",
       "  <thead>\n",
       "    <tr style=\"text-align: right;\">\n",
       "      <th></th>\n",
       "      <th>No.</th>\n",
       "      <th>Time</th>\n",
       "      <th>Source</th>\n",
       "      <th>Destination</th>\n",
       "      <th>Protocol</th>\n",
       "      <th>Length</th>\n",
       "      <th>Info</th>\n",
       "    </tr>\n",
       "  </thead>\n",
       "  <tbody>\n",
       "    <tr>\n",
       "      <th>0</th>\n",
       "      <td>1</td>\n",
       "      <td>0.000000</td>\n",
       "      <td>128.206.20.147</td>\n",
       "      <td>128.206.20.43</td>\n",
       "      <td>UDP</td>\n",
       "      <td>83</td>\n",
       "      <td>64513  &gt;  50495 Len=41</td>\n",
       "    </tr>\n",
       "    <tr>\n",
       "      <th>1</th>\n",
       "      <td>2</td>\n",
       "      <td>0.000022</td>\n",
       "      <td>128.206.20.147</td>\n",
       "      <td>128.206.20.43</td>\n",
       "      <td>QUIC</td>\n",
       "      <td>83</td>\n",
       "      <td>Protected Payload (KP0)</td>\n",
       "    </tr>\n",
       "    <tr>\n",
       "      <th>2</th>\n",
       "      <td>3</td>\n",
       "      <td>0.000035</td>\n",
       "      <td>128.206.20.147</td>\n",
       "      <td>128.206.20.43</td>\n",
       "      <td>UDP</td>\n",
       "      <td>83</td>\n",
       "      <td>64513  &gt;  50497 Len=41</td>\n",
       "    </tr>\n",
       "    <tr>\n",
       "      <th>3</th>\n",
       "      <td>4</td>\n",
       "      <td>0.000048</td>\n",
       "      <td>128.206.20.147</td>\n",
       "      <td>128.206.20.43</td>\n",
       "      <td>UDP</td>\n",
       "      <td>83</td>\n",
       "      <td>64513  &gt;  50496 Len=41</td>\n",
       "    </tr>\n",
       "    <tr>\n",
       "      <th>4</th>\n",
       "      <td>5</td>\n",
       "      <td>0.000061</td>\n",
       "      <td>128.206.20.147</td>\n",
       "      <td>128.206.20.43</td>\n",
       "      <td>UDP</td>\n",
       "      <td>83</td>\n",
       "      <td>64513  &gt;  50500 Len=41</td>\n",
       "    </tr>\n",
       "  </tbody>\n",
       "</table>\n",
       "</div>"
      ],
      "text/plain": [
       "   No.      Time          Source    Destination Protocol  Length  \\\n",
       "0    1  0.000000  128.206.20.147  128.206.20.43      UDP      83   \n",
       "1    2  0.000022  128.206.20.147  128.206.20.43     QUIC      83   \n",
       "2    3  0.000035  128.206.20.147  128.206.20.43      UDP      83   \n",
       "3    4  0.000048  128.206.20.147  128.206.20.43      UDP      83   \n",
       "4    5  0.000061  128.206.20.147  128.206.20.43      UDP      83   \n",
       "\n",
       "                      Info  \n",
       "0   64513  >  50495 Len=41  \n",
       "1  Protected Payload (KP0)  \n",
       "2   64513  >  50497 Len=41  \n",
       "3   64513  >  50496 Len=41  \n",
       "4   64513  >  50500 Len=41  "
      ]
     },
     "execution_count": 251,
     "metadata": {},
     "output_type": "execute_result"
    }
   ],
   "source": [
    "df_norm = pd.read_csv(\"vSocial_Norm_10mins.csv\")\n",
    "df_norm.head()"
   ]
  },
  {
   "cell_type": "markdown",
   "metadata": {},
   "source": [
    "<h1><a id=\"Data-b\"></a>B. Duplication Attack</h1>"
   ]
  },
  {
   "cell_type": "code",
   "execution_count": 252,
   "metadata": {},
   "outputs": [
    {
     "data": {
      "text/html": [
       "<div>\n",
       "<style scoped>\n",
       "    .dataframe tbody tr th:only-of-type {\n",
       "        vertical-align: middle;\n",
       "    }\n",
       "\n",
       "    .dataframe tbody tr th {\n",
       "        vertical-align: top;\n",
       "    }\n",
       "\n",
       "    .dataframe thead th {\n",
       "        text-align: right;\n",
       "    }\n",
       "</style>\n",
       "<table border=\"1\" class=\"dataframe\">\n",
       "  <thead>\n",
       "    <tr style=\"text-align: right;\">\n",
       "      <th></th>\n",
       "      <th>No.</th>\n",
       "      <th>Time</th>\n",
       "      <th>Source</th>\n",
       "      <th>Destination</th>\n",
       "      <th>Protocol</th>\n",
       "      <th>Length</th>\n",
       "      <th>Info</th>\n",
       "    </tr>\n",
       "  </thead>\n",
       "  <tbody>\n",
       "    <tr>\n",
       "      <th>0</th>\n",
       "      <td>1</td>\n",
       "      <td>0.000000</td>\n",
       "      <td>128.206.20.147</td>\n",
       "      <td>128.206.20.43</td>\n",
       "      <td>UDP</td>\n",
       "      <td>132</td>\n",
       "      <td>64513  &gt;  50494 Len=90</td>\n",
       "    </tr>\n",
       "    <tr>\n",
       "      <th>1</th>\n",
       "      <td>2</td>\n",
       "      <td>0.000210</td>\n",
       "      <td>128.206.20.147</td>\n",
       "      <td>128.206.20.43</td>\n",
       "      <td>UDP</td>\n",
       "      <td>132</td>\n",
       "      <td>64513  &gt;  50494 Len=90</td>\n",
       "    </tr>\n",
       "    <tr>\n",
       "      <th>2</th>\n",
       "      <td>3</td>\n",
       "      <td>0.000577</td>\n",
       "      <td>128.206.20.147</td>\n",
       "      <td>128.206.20.43</td>\n",
       "      <td>UDP</td>\n",
       "      <td>132</td>\n",
       "      <td>64513  &gt;  50494 Len=90</td>\n",
       "    </tr>\n",
       "    <tr>\n",
       "      <th>3</th>\n",
       "      <td>4</td>\n",
       "      <td>0.000921</td>\n",
       "      <td>128.206.20.147</td>\n",
       "      <td>128.206.20.43</td>\n",
       "      <td>UDP</td>\n",
       "      <td>132</td>\n",
       "      <td>64513  &gt;  50494 Len=90</td>\n",
       "    </tr>\n",
       "    <tr>\n",
       "      <th>4</th>\n",
       "      <td>5</td>\n",
       "      <td>0.001063</td>\n",
       "      <td>128.206.20.147</td>\n",
       "      <td>128.206.20.43</td>\n",
       "      <td>UDP</td>\n",
       "      <td>132</td>\n",
       "      <td>64513  &gt;  50494 Len=90</td>\n",
       "    </tr>\n",
       "  </tbody>\n",
       "</table>\n",
       "</div>"
      ],
      "text/plain": [
       "   No.      Time          Source    Destination Protocol  Length  \\\n",
       "0    1  0.000000  128.206.20.147  128.206.20.43      UDP     132   \n",
       "1    2  0.000210  128.206.20.147  128.206.20.43      UDP     132   \n",
       "2    3  0.000577  128.206.20.147  128.206.20.43      UDP     132   \n",
       "3    4  0.000921  128.206.20.147  128.206.20.43      UDP     132   \n",
       "4    5  0.001063  128.206.20.147  128.206.20.43      UDP     132   \n",
       "\n",
       "                     Info  \n",
       "0  64513  >  50494 Len=90  \n",
       "1  64513  >  50494 Len=90  \n",
       "2  64513  >  50494 Len=90  \n",
       "3  64513  >  50494 Len=90  \n",
       "4  64513  >  50494 Len=90  "
      ]
     },
     "execution_count": 252,
     "metadata": {},
     "output_type": "execute_result"
    }
   ],
   "source": [
    "df_dup = pd.read_csv(\"vSocial_Dup_10mins.csv\")\n",
    "df_dup.head()"
   ]
  },
  {
   "cell_type": "markdown",
   "metadata": {},
   "source": [
    "<h1><a id=\"Data-c\"></a>C. Tampering Attack</h1>"
   ]
  },
  {
   "cell_type": "code",
   "execution_count": 253,
   "metadata": {},
   "outputs": [
    {
     "data": {
      "text/html": [
       "<div>\n",
       "<style scoped>\n",
       "    .dataframe tbody tr th:only-of-type {\n",
       "        vertical-align: middle;\n",
       "    }\n",
       "\n",
       "    .dataframe tbody tr th {\n",
       "        vertical-align: top;\n",
       "    }\n",
       "\n",
       "    .dataframe thead th {\n",
       "        text-align: right;\n",
       "    }\n",
       "</style>\n",
       "<table border=\"1\" class=\"dataframe\">\n",
       "  <thead>\n",
       "    <tr style=\"text-align: right;\">\n",
       "      <th></th>\n",
       "      <th>No.</th>\n",
       "      <th>Time</th>\n",
       "      <th>Source</th>\n",
       "      <th>Destination</th>\n",
       "      <th>Protocol</th>\n",
       "      <th>Length</th>\n",
       "      <th>Info</th>\n",
       "    </tr>\n",
       "  </thead>\n",
       "  <tbody>\n",
       "    <tr>\n",
       "      <th>0</th>\n",
       "      <td>1</td>\n",
       "      <td>0.000000</td>\n",
       "      <td>128.206.20.43</td>\n",
       "      <td>128.206.20.147</td>\n",
       "      <td>UDP</td>\n",
       "      <td>168</td>\n",
       "      <td>50496  &gt;  64513 Len=126</td>\n",
       "    </tr>\n",
       "    <tr>\n",
       "      <th>1</th>\n",
       "      <td>2</td>\n",
       "      <td>0.000567</td>\n",
       "      <td>128.206.20.147</td>\n",
       "      <td>128.206.20.43</td>\n",
       "      <td>UDP</td>\n",
       "      <td>132</td>\n",
       "      <td>64513  &gt;  62430 Len=90</td>\n",
       "    </tr>\n",
       "    <tr>\n",
       "      <th>2</th>\n",
       "      <td>3</td>\n",
       "      <td>0.004150</td>\n",
       "      <td>128.206.20.43</td>\n",
       "      <td>128.206.20.147</td>\n",
       "      <td>UDP</td>\n",
       "      <td>82</td>\n",
       "      <td>62430  &gt;  64513 Len=40</td>\n",
       "    </tr>\n",
       "    <tr>\n",
       "      <th>3</th>\n",
       "      <td>4</td>\n",
       "      <td>0.004866</td>\n",
       "      <td>128.206.20.147</td>\n",
       "      <td>128.206.20.43</td>\n",
       "      <td>UDP</td>\n",
       "      <td>610</td>\n",
       "      <td>64513  &gt;  50496 Len=568</td>\n",
       "    </tr>\n",
       "    <tr>\n",
       "      <th>4</th>\n",
       "      <td>5</td>\n",
       "      <td>0.010442</td>\n",
       "      <td>128.206.20.147</td>\n",
       "      <td>128.206.20.43</td>\n",
       "      <td>UDP</td>\n",
       "      <td>132</td>\n",
       "      <td>64513  &gt;  62430 Len=90</td>\n",
       "    </tr>\n",
       "  </tbody>\n",
       "</table>\n",
       "</div>"
      ],
      "text/plain": [
       "   No.      Time          Source     Destination Protocol  Length  \\\n",
       "0    1  0.000000   128.206.20.43  128.206.20.147      UDP     168   \n",
       "1    2  0.000567  128.206.20.147   128.206.20.43      UDP     132   \n",
       "2    3  0.004150   128.206.20.43  128.206.20.147      UDP      82   \n",
       "3    4  0.004866  128.206.20.147   128.206.20.43      UDP     610   \n",
       "4    5  0.010442  128.206.20.147   128.206.20.43      UDP     132   \n",
       "\n",
       "                      Info  \n",
       "0  50496  >  64513 Len=126  \n",
       "1   64513  >  62430 Len=90  \n",
       "2   62430  >  64513 Len=40  \n",
       "3  64513  >  50496 Len=568  \n",
       "4   64513  >  62430 Len=90  "
      ]
     },
     "execution_count": 253,
     "metadata": {},
     "output_type": "execute_result"
    }
   ],
   "source": [
    "df_tamper = pd.read_csv(\"vSocial_Tamper_10mins.csv\")\n",
    "df_tamper.head()"
   ]
  },
  {
   "cell_type": "markdown",
   "metadata": {},
   "source": [
    "<h1><a id=\"Data-d\"></a>D. Dropping Attack</h1>"
   ]
  },
  {
   "cell_type": "code",
   "execution_count": 254,
   "metadata": {},
   "outputs": [
    {
     "data": {
      "text/html": [
       "<div>\n",
       "<style scoped>\n",
       "    .dataframe tbody tr th:only-of-type {\n",
       "        vertical-align: middle;\n",
       "    }\n",
       "\n",
       "    .dataframe tbody tr th {\n",
       "        vertical-align: top;\n",
       "    }\n",
       "\n",
       "    .dataframe thead th {\n",
       "        text-align: right;\n",
       "    }\n",
       "</style>\n",
       "<table border=\"1\" class=\"dataframe\">\n",
       "  <thead>\n",
       "    <tr style=\"text-align: right;\">\n",
       "      <th></th>\n",
       "      <th>No.</th>\n",
       "      <th>Time</th>\n",
       "      <th>Source</th>\n",
       "      <th>Destination</th>\n",
       "      <th>Protocol</th>\n",
       "      <th>Length</th>\n",
       "      <th>Info</th>\n",
       "    </tr>\n",
       "  </thead>\n",
       "  <tbody>\n",
       "    <tr>\n",
       "      <th>0</th>\n",
       "      <td>1</td>\n",
       "      <td>0.000000</td>\n",
       "      <td>128.206.20.43</td>\n",
       "      <td>128.206.20.147</td>\n",
       "      <td>UDP</td>\n",
       "      <td>82</td>\n",
       "      <td>57490  &gt;  64513 Len=40</td>\n",
       "    </tr>\n",
       "    <tr>\n",
       "      <th>1</th>\n",
       "      <td>2</td>\n",
       "      <td>0.008214</td>\n",
       "      <td>128.206.20.43</td>\n",
       "      <td>128.206.20.147</td>\n",
       "      <td>UDP</td>\n",
       "      <td>709</td>\n",
       "      <td>50499  &gt;  64513 Len=667</td>\n",
       "    </tr>\n",
       "    <tr>\n",
       "      <th>2</th>\n",
       "      <td>3</td>\n",
       "      <td>0.010326</td>\n",
       "      <td>128.206.20.43</td>\n",
       "      <td>128.206.20.147</td>\n",
       "      <td>UDP</td>\n",
       "      <td>82</td>\n",
       "      <td>57490  &gt;  64513 Len=40</td>\n",
       "    </tr>\n",
       "    <tr>\n",
       "      <th>3</th>\n",
       "      <td>4</td>\n",
       "      <td>0.023819</td>\n",
       "      <td>128.206.20.43</td>\n",
       "      <td>128.206.20.147</td>\n",
       "      <td>UDP</td>\n",
       "      <td>82</td>\n",
       "      <td>57490  &gt;  64513 Len=40</td>\n",
       "    </tr>\n",
       "    <tr>\n",
       "      <th>4</th>\n",
       "      <td>5</td>\n",
       "      <td>0.030320</td>\n",
       "      <td>128.206.20.43</td>\n",
       "      <td>128.206.20.147</td>\n",
       "      <td>UDP</td>\n",
       "      <td>82</td>\n",
       "      <td>57490  &gt;  64513 Len=40</td>\n",
       "    </tr>\n",
       "  </tbody>\n",
       "</table>\n",
       "</div>"
      ],
      "text/plain": [
       "   No.      Time         Source     Destination Protocol  Length  \\\n",
       "0    1  0.000000  128.206.20.43  128.206.20.147      UDP      82   \n",
       "1    2  0.008214  128.206.20.43  128.206.20.147      UDP     709   \n",
       "2    3  0.010326  128.206.20.43  128.206.20.147      UDP      82   \n",
       "3    4  0.023819  128.206.20.43  128.206.20.147      UDP      82   \n",
       "4    5  0.030320  128.206.20.43  128.206.20.147      UDP      82   \n",
       "\n",
       "                      Info  \n",
       "0   57490  >  64513 Len=40  \n",
       "1  50499  >  64513 Len=667  \n",
       "2   57490  >  64513 Len=40  \n",
       "3   57490  >  64513 Len=40  \n",
       "4   57490  >  64513 Len=40  "
      ]
     },
     "execution_count": 254,
     "metadata": {},
     "output_type": "execute_result"
    }
   ],
   "source": [
    "df_drop = pd.read_csv(\"vSocial_Drop_10mins.csv\")\n",
    "df_drop.head()"
   ]
  },
  {
   "cell_type": "markdown",
   "metadata": {},
   "source": [
    "<h1><a id=\"Data-e\"></a>E. Duplication + Dropping Attack</h1>"
   ]
  },
  {
   "cell_type": "code",
   "execution_count": 255,
   "metadata": {},
   "outputs": [
    {
     "data": {
      "text/html": [
       "<div>\n",
       "<style scoped>\n",
       "    .dataframe tbody tr th:only-of-type {\n",
       "        vertical-align: middle;\n",
       "    }\n",
       "\n",
       "    .dataframe tbody tr th {\n",
       "        vertical-align: top;\n",
       "    }\n",
       "\n",
       "    .dataframe thead th {\n",
       "        text-align: right;\n",
       "    }\n",
       "</style>\n",
       "<table border=\"1\" class=\"dataframe\">\n",
       "  <thead>\n",
       "    <tr style=\"text-align: right;\">\n",
       "      <th></th>\n",
       "      <th>No.</th>\n",
       "      <th>Time</th>\n",
       "      <th>Source</th>\n",
       "      <th>Destination</th>\n",
       "      <th>Protocol</th>\n",
       "      <th>Length</th>\n",
       "      <th>Info</th>\n",
       "    </tr>\n",
       "  </thead>\n",
       "  <tbody>\n",
       "    <tr>\n",
       "      <th>0</th>\n",
       "      <td>1</td>\n",
       "      <td>0.000000</td>\n",
       "      <td>128.206.20.46</td>\n",
       "      <td>128.206.20.43</td>\n",
       "      <td>UDP</td>\n",
       "      <td>614</td>\n",
       "      <td>58222  &gt;  62057 Len=572</td>\n",
       "    </tr>\n",
       "    <tr>\n",
       "      <th>1</th>\n",
       "      <td>2</td>\n",
       "      <td>0.007095</td>\n",
       "      <td>128.206.20.43</td>\n",
       "      <td>128.206.20.46</td>\n",
       "      <td>UDP</td>\n",
       "      <td>82</td>\n",
       "      <td>62053  &gt;  58222 Len=40</td>\n",
       "    </tr>\n",
       "    <tr>\n",
       "      <th>2</th>\n",
       "      <td>3</td>\n",
       "      <td>0.012939</td>\n",
       "      <td>128.206.20.43</td>\n",
       "      <td>128.206.20.46</td>\n",
       "      <td>UDP</td>\n",
       "      <td>143</td>\n",
       "      <td>62057  &gt;  58222 Len=101</td>\n",
       "    </tr>\n",
       "    <tr>\n",
       "      <th>3</th>\n",
       "      <td>4</td>\n",
       "      <td>0.016943</td>\n",
       "      <td>128.206.20.43</td>\n",
       "      <td>128.206.20.46</td>\n",
       "      <td>UDP</td>\n",
       "      <td>82</td>\n",
       "      <td>62053  &gt;  58222 Len=40</td>\n",
       "    </tr>\n",
       "    <tr>\n",
       "      <th>4</th>\n",
       "      <td>5</td>\n",
       "      <td>0.026106</td>\n",
       "      <td>128.206.20.43</td>\n",
       "      <td>128.206.20.46</td>\n",
       "      <td>UDP</td>\n",
       "      <td>82</td>\n",
       "      <td>62053  &gt;  58222 Len=40</td>\n",
       "    </tr>\n",
       "  </tbody>\n",
       "</table>\n",
       "</div>"
      ],
      "text/plain": [
       "   No.      Time         Source    Destination Protocol  Length  \\\n",
       "0    1  0.000000  128.206.20.46  128.206.20.43      UDP     614   \n",
       "1    2  0.007095  128.206.20.43  128.206.20.46      UDP      82   \n",
       "2    3  0.012939  128.206.20.43  128.206.20.46      UDP     143   \n",
       "3    4  0.016943  128.206.20.43  128.206.20.46      UDP      82   \n",
       "4    5  0.026106  128.206.20.43  128.206.20.46      UDP      82   \n",
       "\n",
       "                      Info  \n",
       "0  58222  >  62057 Len=572  \n",
       "1   62053  >  58222 Len=40  \n",
       "2  62057  >  58222 Len=101  \n",
       "3   62053  >  58222 Len=40  \n",
       "4   62053  >  58222 Len=40  "
      ]
     },
     "execution_count": 255,
     "metadata": {},
     "output_type": "execute_result"
    }
   ],
   "source": [
    "df_dup_drop = pd.read_csv(\"vSocial_Dup_Drop_10mins.csv\")\n",
    "df_dup_drop.head()"
   ]
  },
  {
   "cell_type": "markdown",
   "metadata": {},
   "source": [
    "<h1><a id=\"Data-f\"></a>F. Duplication + Tampering Attack</h1>"
   ]
  },
  {
   "cell_type": "code",
   "execution_count": 256,
   "metadata": {},
   "outputs": [
    {
     "data": {
      "text/html": [
       "<div>\n",
       "<style scoped>\n",
       "    .dataframe tbody tr th:only-of-type {\n",
       "        vertical-align: middle;\n",
       "    }\n",
       "\n",
       "    .dataframe tbody tr th {\n",
       "        vertical-align: top;\n",
       "    }\n",
       "\n",
       "    .dataframe thead th {\n",
       "        text-align: right;\n",
       "    }\n",
       "</style>\n",
       "<table border=\"1\" class=\"dataframe\">\n",
       "  <thead>\n",
       "    <tr style=\"text-align: right;\">\n",
       "      <th></th>\n",
       "      <th>No.</th>\n",
       "      <th>Time</th>\n",
       "      <th>Source</th>\n",
       "      <th>Destination</th>\n",
       "      <th>Protocol</th>\n",
       "      <th>Length</th>\n",
       "      <th>Info</th>\n",
       "    </tr>\n",
       "  </thead>\n",
       "  <tbody>\n",
       "    <tr>\n",
       "      <th>0</th>\n",
       "      <td>1</td>\n",
       "      <td>0.000000</td>\n",
       "      <td>128.206.20.46</td>\n",
       "      <td>128.206.20.43</td>\n",
       "      <td>UDP</td>\n",
       "      <td>626</td>\n",
       "      <td>58222  &gt;  53290 Len=584</td>\n",
       "    </tr>\n",
       "    <tr>\n",
       "      <th>1</th>\n",
       "      <td>2</td>\n",
       "      <td>0.000713</td>\n",
       "      <td>128.206.20.46</td>\n",
       "      <td>128.206.20.43</td>\n",
       "      <td>UDP</td>\n",
       "      <td>626</td>\n",
       "      <td>58222  &gt;  53290 Len=584</td>\n",
       "    </tr>\n",
       "    <tr>\n",
       "      <th>2</th>\n",
       "      <td>3</td>\n",
       "      <td>0.001075</td>\n",
       "      <td>128.206.20.43</td>\n",
       "      <td>128.206.20.46</td>\n",
       "      <td>UDP</td>\n",
       "      <td>198</td>\n",
       "      <td>53291  &gt;  58222 Len=156</td>\n",
       "    </tr>\n",
       "    <tr>\n",
       "      <th>3</th>\n",
       "      <td>4</td>\n",
       "      <td>0.001075</td>\n",
       "      <td>128.206.20.43</td>\n",
       "      <td>128.206.20.46</td>\n",
       "      <td>UDP</td>\n",
       "      <td>198</td>\n",
       "      <td>53291  &gt;  58222 Len=156</td>\n",
       "    </tr>\n",
       "    <tr>\n",
       "      <th>4</th>\n",
       "      <td>5</td>\n",
       "      <td>0.001196</td>\n",
       "      <td>128.206.20.46</td>\n",
       "      <td>128.206.20.43</td>\n",
       "      <td>UDP</td>\n",
       "      <td>626</td>\n",
       "      <td>58222  &gt;  53290 Len=584</td>\n",
       "    </tr>\n",
       "  </tbody>\n",
       "</table>\n",
       "</div>"
      ],
      "text/plain": [
       "   No.      Time         Source    Destination Protocol  Length  \\\n",
       "0    1  0.000000  128.206.20.46  128.206.20.43      UDP     626   \n",
       "1    2  0.000713  128.206.20.46  128.206.20.43      UDP     626   \n",
       "2    3  0.001075  128.206.20.43  128.206.20.46      UDP     198   \n",
       "3    4  0.001075  128.206.20.43  128.206.20.46      UDP     198   \n",
       "4    5  0.001196  128.206.20.46  128.206.20.43      UDP     626   \n",
       "\n",
       "                      Info  \n",
       "0  58222  >  53290 Len=584  \n",
       "1  58222  >  53290 Len=584  \n",
       "2  53291  >  58222 Len=156  \n",
       "3  53291  >  58222 Len=156  \n",
       "4  58222  >  53290 Len=584  "
      ]
     },
     "execution_count": 256,
     "metadata": {},
     "output_type": "execute_result"
    }
   ],
   "source": [
    "df_dup_tamper = pd.read_csv(\"vSocial_Dup_Tamper_10mins.csv\")\n",
    "df_dup_tamper.head()"
   ]
  },
  {
   "cell_type": "markdown",
   "metadata": {},
   "source": [
    "<h1><a id=\"Data-g\"></a>G. Dropping + Tampering Attack</h1>"
   ]
  },
  {
   "cell_type": "code",
   "execution_count": 257,
   "metadata": {},
   "outputs": [
    {
     "data": {
      "text/html": [
       "<div>\n",
       "<style scoped>\n",
       "    .dataframe tbody tr th:only-of-type {\n",
       "        vertical-align: middle;\n",
       "    }\n",
       "\n",
       "    .dataframe tbody tr th {\n",
       "        vertical-align: top;\n",
       "    }\n",
       "\n",
       "    .dataframe thead th {\n",
       "        text-align: right;\n",
       "    }\n",
       "</style>\n",
       "<table border=\"1\" class=\"dataframe\">\n",
       "  <thead>\n",
       "    <tr style=\"text-align: right;\">\n",
       "      <th></th>\n",
       "      <th>No.</th>\n",
       "      <th>Time</th>\n",
       "      <th>Source</th>\n",
       "      <th>Destination</th>\n",
       "      <th>Protocol</th>\n",
       "      <th>Length</th>\n",
       "      <th>Info</th>\n",
       "    </tr>\n",
       "  </thead>\n",
       "  <tbody>\n",
       "    <tr>\n",
       "      <th>0</th>\n",
       "      <td>1</td>\n",
       "      <td>0.000000</td>\n",
       "      <td>128.206.20.43</td>\n",
       "      <td>128.206.20.46</td>\n",
       "      <td>UDP</td>\n",
       "      <td>82</td>\n",
       "      <td>62053  &gt;  58222 Len=40</td>\n",
       "    </tr>\n",
       "    <tr>\n",
       "      <th>1</th>\n",
       "      <td>2</td>\n",
       "      <td>0.002915</td>\n",
       "      <td>128.206.20.46</td>\n",
       "      <td>128.206.20.43</td>\n",
       "      <td>UDP</td>\n",
       "      <td>132</td>\n",
       "      <td>58222  &gt;  62053 Len=90</td>\n",
       "    </tr>\n",
       "    <tr>\n",
       "      <th>2</th>\n",
       "      <td>3</td>\n",
       "      <td>0.011434</td>\n",
       "      <td>128.206.20.43</td>\n",
       "      <td>128.206.20.46</td>\n",
       "      <td>UDP</td>\n",
       "      <td>82</td>\n",
       "      <td>62053  &gt;  58222 Len=40</td>\n",
       "    </tr>\n",
       "    <tr>\n",
       "      <th>3</th>\n",
       "      <td>4</td>\n",
       "      <td>0.019637</td>\n",
       "      <td>128.206.20.43</td>\n",
       "      <td>128.206.20.46</td>\n",
       "      <td>UDP</td>\n",
       "      <td>143</td>\n",
       "      <td>62057  &gt;  58222 Len=101</td>\n",
       "    </tr>\n",
       "    <tr>\n",
       "      <th>4</th>\n",
       "      <td>5</td>\n",
       "      <td>0.019637</td>\n",
       "      <td>128.206.20.43</td>\n",
       "      <td>128.206.20.46</td>\n",
       "      <td>UDP</td>\n",
       "      <td>82</td>\n",
       "      <td>62053  &gt;  58222 Len=40</td>\n",
       "    </tr>\n",
       "  </tbody>\n",
       "</table>\n",
       "</div>"
      ],
      "text/plain": [
       "   No.      Time         Source    Destination Protocol  Length  \\\n",
       "0    1  0.000000  128.206.20.43  128.206.20.46      UDP      82   \n",
       "1    2  0.002915  128.206.20.46  128.206.20.43      UDP     132   \n",
       "2    3  0.011434  128.206.20.43  128.206.20.46      UDP      82   \n",
       "3    4  0.019637  128.206.20.43  128.206.20.46      UDP     143   \n",
       "4    5  0.019637  128.206.20.43  128.206.20.46      UDP      82   \n",
       "\n",
       "                      Info  \n",
       "0   62053  >  58222 Len=40  \n",
       "1   58222  >  62053 Len=90  \n",
       "2   62053  >  58222 Len=40  \n",
       "3  62057  >  58222 Len=101  \n",
       "4   62053  >  58222 Len=40  "
      ]
     },
     "execution_count": 257,
     "metadata": {},
     "output_type": "execute_result"
    }
   ],
   "source": [
    "df_drop_tamper = pd.read_csv(\"vSocial_Drop_Tamper_10mins.csv\")\n",
    "df_drop_tamper.head()"
   ]
  },
  {
   "cell_type": "markdown",
   "metadata": {},
   "source": [
    "<h1><a id=\"Data-h\"></a>H. Dropping + Duplication + Tampering Attack</h1>"
   ]
  },
  {
   "cell_type": "code",
   "execution_count": 258,
   "metadata": {},
   "outputs": [
    {
     "data": {
      "text/html": [
       "<div>\n",
       "<style scoped>\n",
       "    .dataframe tbody tr th:only-of-type {\n",
       "        vertical-align: middle;\n",
       "    }\n",
       "\n",
       "    .dataframe tbody tr th {\n",
       "        vertical-align: top;\n",
       "    }\n",
       "\n",
       "    .dataframe thead th {\n",
       "        text-align: right;\n",
       "    }\n",
       "</style>\n",
       "<table border=\"1\" class=\"dataframe\">\n",
       "  <thead>\n",
       "    <tr style=\"text-align: right;\">\n",
       "      <th></th>\n",
       "      <th>No.</th>\n",
       "      <th>Time</th>\n",
       "      <th>Source</th>\n",
       "      <th>Destination</th>\n",
       "      <th>Protocol</th>\n",
       "      <th>Length</th>\n",
       "      <th>Info</th>\n",
       "    </tr>\n",
       "  </thead>\n",
       "  <tbody>\n",
       "    <tr>\n",
       "      <th>0</th>\n",
       "      <td>1</td>\n",
       "      <td>0.000000</td>\n",
       "      <td>128.206.20.43</td>\n",
       "      <td>128.206.20.46</td>\n",
       "      <td>UDP</td>\n",
       "      <td>82</td>\n",
       "      <td>54179  &gt;  54854 Len=40</td>\n",
       "    </tr>\n",
       "    <tr>\n",
       "      <th>1</th>\n",
       "      <td>2</td>\n",
       "      <td>0.009997</td>\n",
       "      <td>128.206.20.43</td>\n",
       "      <td>128.206.20.46</td>\n",
       "      <td>UDP</td>\n",
       "      <td>82</td>\n",
       "      <td>54179  &gt;  54854 Len=40</td>\n",
       "    </tr>\n",
       "    <tr>\n",
       "      <th>2</th>\n",
       "      <td>3</td>\n",
       "      <td>0.012511</td>\n",
       "      <td>128.206.20.43</td>\n",
       "      <td>128.206.20.46</td>\n",
       "      <td>UDP</td>\n",
       "      <td>143</td>\n",
       "      <td>63271  &gt;  54854 Len=101</td>\n",
       "    </tr>\n",
       "    <tr>\n",
       "      <th>3</th>\n",
       "      <td>4</td>\n",
       "      <td>0.019995</td>\n",
       "      <td>128.206.20.43</td>\n",
       "      <td>128.206.20.46</td>\n",
       "      <td>UDP</td>\n",
       "      <td>82</td>\n",
       "      <td>54179  &gt;  54854 Len=40</td>\n",
       "    </tr>\n",
       "    <tr>\n",
       "      <th>4</th>\n",
       "      <td>5</td>\n",
       "      <td>0.029499</td>\n",
       "      <td>128.206.20.43</td>\n",
       "      <td>128.206.20.46</td>\n",
       "      <td>UDP</td>\n",
       "      <td>82</td>\n",
       "      <td>54179  &gt;  54854 Len=40</td>\n",
       "    </tr>\n",
       "  </tbody>\n",
       "</table>\n",
       "</div>"
      ],
      "text/plain": [
       "   No.      Time         Source    Destination Protocol  Length  \\\n",
       "0    1  0.000000  128.206.20.43  128.206.20.46      UDP      82   \n",
       "1    2  0.009997  128.206.20.43  128.206.20.46      UDP      82   \n",
       "2    3  0.012511  128.206.20.43  128.206.20.46      UDP     143   \n",
       "3    4  0.019995  128.206.20.43  128.206.20.46      UDP      82   \n",
       "4    5  0.029499  128.206.20.43  128.206.20.46      UDP      82   \n",
       "\n",
       "                      Info  \n",
       "0   54179  >  54854 Len=40  \n",
       "1   54179  >  54854 Len=40  \n",
       "2  63271  >  54854 Len=101  \n",
       "3   54179  >  54854 Len=40  \n",
       "4   54179  >  54854 Len=40  "
      ]
     },
     "execution_count": 258,
     "metadata": {},
     "output_type": "execute_result"
    }
   ],
   "source": [
    "df_drop_dup_tamper = pd.read_csv(\"vSocial_Drop_Dup_Tamper_10mins.csv\")\n",
    "df_drop_dup_tamper.head()"
   ]
  },
  {
   "cell_type": "markdown",
   "metadata": {},
   "source": [
    "<h1 class=\"section-header\"><a id=\"Visualizations\"></a>Visualizations</h1>"
   ]
  },
  {
   "cell_type": "code",
   "execution_count": 259,
   "metadata": {},
   "outputs": [],
   "source": [
    "def getPacketsSent(df):\n",
    "    speedArray = []\n",
    "    for i in range(0, 600):\n",
    "        speedArray.append(len(df[df.Time <= i+1]))\n",
    "    return speedArray"
   ]
  },
  {
   "cell_type": "code",
   "execution_count": 260,
   "metadata": {},
   "outputs": [],
   "source": [
    "def getPacketSpeeds(df):\n",
    "    speedArray = []\n",
    "    for i in range(0, 600):\n",
    "        speedArray.append(len(df[(df.Time >= i) & (df.Time <= i+1)]))\n",
    "    return speedArray"
   ]
  },
  {
   "cell_type": "markdown",
   "metadata": {},
   "source": [
    "<h1><a id=\"Visualizations-a\"></a>A. Total Packets Sent Over Time</h1>"
   ]
  },
  {
   "cell_type": "markdown",
   "metadata": {},
   "source": [
    "<h2><a id=\"Visualizations-a-i\"></a>i. Normal Behavior</h2>"
   ]
  },
  {
   "cell_type": "code",
   "execution_count": 261,
   "metadata": {},
   "outputs": [
    {
     "data": {
      "image/png": "[encoded data removed]",
      "text/plain": [
       "<Figure size 1008x432 with 1 Axes>"
      ]
     },
     "metadata": {
      "needs_background": "light"
     },
     "output_type": "display_data"
    }
   ],
   "source": [
    "plt.figure(figsize=(14,6))\n",
    "plt.scatter(np.arange(0, 600), getPacketsSent(df_norm), s=1)\n",
    "plt.xlabel(\"Time (seconds)\", fontsize=14)\n",
    "plt.ylabel(\"# Packets Sent\", fontsize=14)\n",
    "plt.title(\"Packets Sent over 10 Minutes - Normal Behavior\", fontsize=16)\n",
    "plt.show()"
   ]
  },
  {
   "cell_type": "code",
   "execution_count": 262,
   "metadata": {},
   "outputs": [
    {
     "ename": "TypeError",
     "evalue": "'dict' object is not callable",
     "output_type": "error",
     "traceback": [
      "\u001b[0;31m---------------------------------------------------------------------------\u001b[0m",
      "\u001b[0;31mTypeError\u001b[0m                                 Traceback (most recent call last)",
      "\u001b[0;32m<ipython-input-262-32277240bae2>\u001b[0m in \u001b[0;36m<module>\u001b[0;34m\u001b[0m\n\u001b[1;32m      8\u001b[0m         \u001b[0mtitle\u001b[0m\u001b[0;34m=\u001b[0m\u001b[0;34m'Time (seconds)'\u001b[0m\u001b[0;34m,\u001b[0m\u001b[0;34m\u001b[0m\u001b[0m\n\u001b[1;32m      9\u001b[0m         rangeslider=dict(\n\u001b[0;32m---> 10\u001b[0;31m             \u001b[0mvisible\u001b[0m \u001b[0;34m=\u001b[0m \u001b[0;32mTrue\u001b[0m\u001b[0;34m\u001b[0m\u001b[0m\n\u001b[0m\u001b[1;32m     11\u001b[0m         )\n\u001b[1;32m     12\u001b[0m     ), \n",
      "\u001b[0;31mTypeError\u001b[0m: 'dict' object is not callable"
     ]
    }
   ],
   "source": [
    "data = [go.Scatter(\n",
    "          x=np.arange(0, 600),\n",
    "          y=getPacketsSent(df_norm))]\n",
    "\n",
    "layout = dict(\n",
    "    title=\"Packets Sent over 10 Minutes - Normal Behavior\",\n",
    "    xaxis=dict(\n",
    "        title='Time (seconds)',\n",
    "        rangeslider=dict(\n",
    "            visible = True\n",
    "        )\n",
    "    ), \n",
    "    yaxis=dict(\n",
    "        title='# Packets Sent'\n",
    "    )\n",
    ")\n",
    "\n",
    "iplot(dict(data=data, layout=layout))"
   ]
  },
  {
   "cell_type": "markdown",
   "metadata": {},
   "source": [
    "<h2><a id=\"Visualizations-a-ii\"></a>ii. Duplication Attack</h2>"
   ]
  },
  {
   "cell_type": "code",
   "execution_count": null,
   "metadata": {},
   "outputs": [],
   "source": [
    "plt.figure(figsize=(14,6))\n",
    "plt.scatter(np.arange(0, 600), getPacketsSent(df_dup), s=1)\n",
    "plt.xlabel(\"Time (seconds)\", fontsize=14)\n",
    "plt.ylabel(\"# Packets Sent\", fontsize=14)\n",
    "plt.title(\"Packets Sent over 10 Minutes - Duplication Attack\", fontsize=16)\n",
    "plt.show()"
   ]
  },
  {
   "cell_type": "code",
   "execution_count": null,
   "metadata": {},
   "outputs": [],
   "source": [
    "data = [go.Scatter(\n",
    "          x=np.arange(0, 600),\n",
    "          y=getPacketsSent(df_dup))]\n",
    "\n",
    "layout = dict(\n",
    "    title=\"Packets Sent over 10 Minutes - Duplication Attack\",\n",
    "    xaxis=dict(\n",
    "        title='Time (seconds)',\n",
    "        rangeslider=dict(\n",
    "            visible = True\n",
    "        )\n",
    "    ), \n",
    "    yaxis=dict(\n",
    "        title='# Packets Sent'\n",
    "    )\n",
    ")\n",
    "\n",
    "iplot(dict(data=data, layout=layout))"
   ]
  },
  {
   "cell_type": "markdown",
   "metadata": {},
   "source": [
    "<h2><a id=\"Visualizations-a-iii\"></a>iii. Tampering Attack</h2>"
   ]
  },
  {
   "cell_type": "code",
   "execution_count": null,
   "metadata": {},
   "outputs": [],
   "source": [
    "plt.figure(figsize=(14,6))\n",
    "plt.scatter(np.arange(0, 600), getPacketsSent(df_tamper), s=1)\n",
    "plt.xlabel(\"Time (seconds)\", fontsize=14)\n",
    "plt.ylabel(\"# Packets Sent\", fontsize=14)\n",
    "plt.title(\"Packets Sent over 10 Minutes - Tampering Attack\", fontsize=16)\n",
    "plt.show()"
   ]
  },
  {
   "cell_type": "code",
   "execution_count": null,
   "metadata": {},
   "outputs": [],
   "source": [
    "data = [go.Scatter(\n",
    "          x=np.arange(0, 600),\n",
    "          y=getPacketsSent(df_tamper))]\n",
    "\n",
    "layout = dict(\n",
    "    title=\"Packets Sent over 10 Minutes - Tampering Attack\",\n",
    "    xaxis=dict(\n",
    "        title='Time (seconds)',\n",
    "        rangeslider=dict(\n",
    "            visible = True\n",
    "        )\n",
    "    ), \n",
    "    yaxis=dict(\n",
    "        title='# Packets Sent'\n",
    "    )\n",
    ")\n",
    "\n",
    "iplot(dict(data=data, layout=layout))"
   ]
  },
  {
   "cell_type": "markdown",
   "metadata": {},
   "source": [
    "<h2><a id=\"Visualizations-a-iv\"></a>iv. Dropping Attack</h2>"
   ]
  },
  {
   "cell_type": "code",
   "execution_count": null,
   "metadata": {},
   "outputs": [],
   "source": [
    "plt.figure(figsize=(14,6))\n",
    "plt.scatter(np.arange(0, 600), getPacketsSent(df_drop), s=1)\n",
    "plt.xlabel(\"Time (seconds)\", fontsize=14)\n",
    "plt.ylabel(\"# Packets Sent\", fontsize=14)\n",
    "plt.title(\"Packets Sent over 10 Minutes - Dropping Attack\", fontsize=16)\n",
    "plt.show()"
   ]
  },
  {
   "cell_type": "code",
   "execution_count": null,
   "metadata": {
    "scrolled": false
   },
   "outputs": [],
   "source": [
    "data = [go.Scatter(\n",
    "          x=np.arange(0, 600),\n",
    "          y=getPacketsSent(df_drop))]\n",
    "\n",
    "layout = dict(\n",
    "    title=\"Packets Sent over 10 Minutes - Dropping Attack\",\n",
    "    xaxis=dict(\n",
    "        title='Time (seconds)',\n",
    "        rangeslider=dict(\n",
    "            visible = True\n",
    "        )\n",
    "    ), \n",
    "    yaxis=dict(\n",
    "        title='# Packets Sent'\n",
    "    )\n",
    ")\n",
    "\n",
    "iplot(dict(data=data, layout=layout))"
   ]
  },
  {
   "cell_type": "markdown",
   "metadata": {},
   "source": [
    "<h2><a id=\"Visualizations-a-v\"></a>v. Duplication + Dropping Attack</h2>"
   ]
  },
  {
   "cell_type": "code",
   "execution_count": null,
   "metadata": {},
   "outputs": [],
   "source": [
    "plt.figure(figsize=(14,6))\n",
    "plt.scatter(np.arange(0, 600), getPacketsSent(df_dup_drop), s=1)\n",
    "plt.xlabel(\"Time (seconds)\", fontsize=14)\n",
    "plt.ylabel(\"# Packets Sent\", fontsize=14)\n",
    "plt.title(\"Packets Sent over 10 Minutes - Duplication + Dropping Attack\", fontsize=16)\n",
    "plt.show()"
   ]
  },
  {
   "cell_type": "markdown",
   "metadata": {},
   "source": [
    "<h2><a id=\"Visualizations-a-vi\"></a>vi. Duplication + Tampering Attack</h2>"
   ]
  },
  {
   "cell_type": "code",
   "execution_count": null,
   "metadata": {},
   "outputs": [],
   "source": [
    "plt.figure(figsize=(14,6))\n",
    "plt.scatter(np.arange(0, 600), getPacketsSent(df_dup_tamper), s=1)\n",
    "plt.xlabel(\"Time (seconds)\", fontsize=14)\n",
    "plt.ylabel(\"# Packets Sent\", fontsize=14)\n",
    "plt.title(\"Packets Sent over 10 Minutes - Duplication + Tampering Attack\", fontsize=16)\n",
    "plt.show()"
   ]
  },
  {
   "cell_type": "markdown",
   "metadata": {},
   "source": [
    "<h2><a id=\"Visualizations-a-vii\"></a>vii. Dropping + Tampering Attack</h2>"
   ]
  },
  {
   "cell_type": "code",
   "execution_count": null,
   "metadata": {},
   "outputs": [],
   "source": [
    "plt.figure(figsize=(14,6))\n",
    "plt.scatter(np.arange(0, 600), getPacketsSent(df_drop_tamper), s=1)\n",
    "plt.xlabel(\"Time (seconds)\", fontsize=14)\n",
    "plt.ylabel(\"# Packets Sent\", fontsize=14)\n",
    "plt.title(\"Packets Sent over 10 Minutes - Dropping + Tampering Attack\", fontsize=16)\n",
    "plt.show()"
   ]
  },
  {
   "cell_type": "markdown",
   "metadata": {},
   "source": [
    "<h2><a id=\"Visualizations-a-viii\"></a>viii. Dropping + Duplication + Tampering Attack</h2>"
   ]
  },
  {
   "cell_type": "code",
   "execution_count": null,
   "metadata": {},
   "outputs": [],
   "source": [
    "plt.figure(figsize=(14,6))\n",
    "plt.scatter(np.arange(0, 600), getPacketsSent(df_drop_dup_tamper), s=1)\n",
    "plt.xlabel(\"Time (seconds)\", fontsize=14)\n",
    "plt.ylabel(\"# Packets Sent\", fontsize=14)\n",
    "plt.title(\"Packets Sent over 10 Minutes - Dropping + Duplication + Tampering Attack\", fontsize=16)\n",
    "plt.show()"
   ]
  },
  {
   "cell_type": "markdown",
   "metadata": {},
   "source": [
    "<h1><a id=\"Visualizations-b\"></a>B. Packet Rate Changes Over Time</h1>"
   ]
  },
  {
   "cell_type": "markdown",
   "metadata": {},
   "source": [
    "<h2><a id=\"Visualizations-b-i\"></a>i. Normal Behavior</h2>"
   ]
  },
  {
   "cell_type": "code",
   "execution_count": null,
   "metadata": {},
   "outputs": [],
   "source": [
    "plt.figure(figsize=(14,6))\n",
    "plt.plot(np.arange(0, 600), getPacketSpeeds(df_norm), '-')\n",
    "plt.xlabel(\"Time (seconds)\", fontsize=14)\n",
    "plt.ylabel(\"# Packets Sent\", fontsize=14)\n",
    "plt.title(\"Packet Rate Over 10 Minutes - Normal Behavior\", fontsize=16)\n",
    "plt.show()"
   ]
  },
  {
   "cell_type": "markdown",
   "metadata": {},
   "source": [
    "<h2><a id=\"Visualizations-b-ii\"></a>ii. Duplication Attack</h2>"
   ]
  },
  {
   "cell_type": "code",
   "execution_count": null,
   "metadata": {},
   "outputs": [],
   "source": [
    "plt.figure(figsize=(14,6))\n",
    "plt.plot(np.arange(0, 600), getPacketSpeeds(df_dup), '-')\n",
    "plt.xlabel(\"Time (seconds)\", fontsize=14)\n",
    "plt.ylabel(\"# Packets Sent\", fontsize=14)\n",
    "plt.title(\"Packet Rate Over 10 Minutes - Duplication Attack\", fontsize=16)\n",
    "plt.show()"
   ]
  },
  {
   "cell_type": "markdown",
   "metadata": {},
   "source": [
    "<h2><a id=\"Visualizations-b-iii\"></a>iii. Tampering Attack</h2>"
   ]
  },
  {
   "cell_type": "code",
   "execution_count": null,
   "metadata": {},
   "outputs": [],
   "source": [
    "plt.figure(figsize=(14,6))\n",
    "plt.plot(np.arange(0, 600), getPacketSpeeds(df_tamper), '-')\n",
    "plt.xlabel(\"Time (seconds)\", fontsize=14)\n",
    "plt.ylabel(\"# Packets Sent\", fontsize=14)\n",
    "plt.title(\"Packet Rate Over 10 Minutes - Tampering Attack\", fontsize=16)\n",
    "plt.show()"
   ]
  },
  {
   "cell_type": "markdown",
   "metadata": {},
   "source": [
    "<h2><a id=\"Visualizations-b-iv\"></a>iv. Dropping Attack</h2>"
   ]
  },
  {
   "cell_type": "code",
   "execution_count": null,
   "metadata": {},
   "outputs": [],
   "source": [
    "plt.figure(figsize=(14,6))\n",
    "plt.plot(np.arange(0, 600), getPacketSpeeds(df_drop), '-')\n",
    "plt.xlabel(\"Time (seconds)\", fontsize=14)\n",
    "plt.ylabel(\"# Packets Sent\", fontsize=14)\n",
    "plt.title(\"Packet Rate Over 10 Minutes - Dropping Attack\", fontsize=16)\n",
    "plt.show()"
   ]
  },
  {
   "cell_type": "markdown",
   "metadata": {},
   "source": [
    "<h2><a id=\"Visualizations-b-v\"></a>v. Duplication + Dropping Attack</h2>"
   ]
  },
  {
   "cell_type": "code",
   "execution_count": null,
   "metadata": {},
   "outputs": [],
   "source": [
    "plt.figure(figsize=(14,6))\n",
    "plt.plot(np.arange(0, 600), getPacketSpeeds(df_dup_drop), '-')\n",
    "plt.xlabel(\"Time (seconds)\", fontsize=14)\n",
    "plt.ylabel(\"# Packets Sent\", fontsize=14)\n",
    "plt.title(\"Packet Rate Over 10 Minutes - Duplication + Dropping Attack\", fontsize=16)\n",
    "plt.show()"
   ]
  },
  {
   "cell_type": "markdown",
   "metadata": {},
   "source": [
    "<h2><a id=\"Visualizations-b-vi\"></a>vi. Duplication + Tampering Attack</h2>"
   ]
  },
  {
   "cell_type": "code",
   "execution_count": null,
   "metadata": {},
   "outputs": [],
   "source": [
    "plt.figure(figsize=(14,6))\n",
    "plt.plot(np.arange(0, 600), getPacketSpeeds(df_dup_tamper), '-')\n",
    "plt.xlabel(\"Time (seconds)\", fontsize=14)\n",
    "plt.ylabel(\"# Packets Sent\", fontsize=14)\n",
    "plt.title(\"Packet Rate Over 10 Minutes - Duplication + Tampering Attack\", fontsize=16)\n",
    "plt.show()"
   ]
  },
  {
   "cell_type": "markdown",
   "metadata": {},
   "source": [
    "<h2><a id=\"Visualizations-b-vii\"></a>vii. Dropping + Tampering Attack</h2>"
   ]
  },
  {
   "cell_type": "code",
   "execution_count": null,
   "metadata": {},
   "outputs": [],
   "source": [
    "plt.figure(figsize=(14,6))\n",
    "plt.plot(np.arange(0, 600), getPacketSpeeds(df_drop_tamper), '-')\n",
    "plt.xlabel(\"Time (seconds)\", fontsize=14)\n",
    "plt.ylabel(\"# Packets Sent\", fontsize=14)\n",
    "plt.title(\"Packet Rate Over 10 Minutes - Dropping + Tampering Attack\", fontsize=16)\n",
    "plt.show()"
   ]
  },
  {
   "cell_type": "markdown",
   "metadata": {},
   "source": [
    "<h2><a id=\"Visualizations-b-viii\"></a>viii. Dropping + Duplication + Tampering Attack</h2>"
   ]
  },
  {
   "cell_type": "code",
   "execution_count": null,
   "metadata": {},
   "outputs": [],
   "source": [
    "plt.figure(figsize=(14,6))\n",
    "plt.plot(np.arange(0, 600), getPacketSpeeds(df_drop_dup_tamper), '-')\n",
    "plt.xlabel(\"Time (seconds)\", fontsize=14)\n",
    "plt.ylabel(\"# Packets Sent\", fontsize=14)\n",
    "plt.title(\"Packet Rate Over 10 Minutes - Dropping + Duplication + Tampering Attack\", fontsize=16)\n",
    "plt.show()"
   ]
  },
  {
   "cell_type": "markdown",
   "metadata": {},
   "source": [
    "<h1><a id=\"Visualizations-c\"></a>C. Interactive Plot</h1>"
   ]
  },
  {
   "cell_type": "code",
   "execution_count": null,
   "metadata": {
    "scrolled": false
   },
   "outputs": [],
   "source": [
    "def updateVisibility(selected_type):\n",
    "    visibilityValues = []\n",
    "    for plot_datum in plot_data:\n",
    "        if plot_datum['Type'] == selected_type:\n",
    "            visibilityValues.append(True)\n",
    "        else:\n",
    "            visibilityValues.append(False)\n",
    "    return visibilityValues\n",
    "\n",
    "norm_total = {'x': np.arange(0, 600), 'y': getPacketsSent(df_norm)}\n",
    "dup_total = {'x': np.arange(0, 600), 'y': getPacketsSent(df_dup)}\n",
    "tamper_total = {'x': np.arange(0, 600), 'y': getPacketsSent(df_tamper)}\n",
    "drop_total = {'x': np.arange(0, 600), 'y': getPacketsSent(df_drop)}\n",
    "\n",
    "norm_speed = {'x': np.arange(0, 600), 'y': getPacketSpeeds(df_norm)}\n",
    "dup_speed = {'x': np.arange(0, 600), 'y': getPacketSpeeds(df_dup)}\n",
    "tamper_speed = {'x': np.arange(0, 600), 'y': getPacketSpeeds(df_tamper)}\n",
    "drop_speed = {'x': np.arange(0, 600), 'y': getPacketSpeeds(df_drop)}\n",
    "\n",
    "data = []\n",
    "buttons_data = []\n",
    "buttons_labels = [\"Total Packets Sent\", \"Packet Speed\"]\n",
    "plot_data = [{\"Title\": \"No Manipulation\", \"Type\": \"Total Packets Sent\", \"Data\": norm_total, \"Color\": \"rgb(77, 82, 91)\"}, \n",
    "             {\"Title\": \"Duplication\", \"Type\": \"Total Packets Sent\", \"Data\": dup_total, \"Color\": \"rgb(104, 156, 249)\"}, \n",
    "             {\"Title\": \"Tampering\", \"Type\": \"Total Packets Sent\", \"Data\": tamper_total, \"Color\": \"rgb(249, 104, 104)\"}, \n",
    "             {\"Title\": \"Dropping\", \"Type\": \"Total Packets Sent\", \"Data\": drop_total, \"Color\": \"rgb(104, 249, 133)\"},\n",
    "             {\"Title\": \"No Manipulation\", \"Type\": \"Packet Speed\", \"Data\": norm_speed, \"Color\": \"rgb(77, 82, 91)\"}, \n",
    "             {\"Title\": \"Duplication\", \"Type\": \"Packet Speed\", \"Data\": dup_speed, \"Color\": \"rgb(104, 156, 249)\"}, \n",
    "             {\"Title\": \"Tampering\", \"Type\": \"Packet Speed\", \"Data\": tamper_speed, \"Color\": \"rgb(249, 104, 104)\"}, \n",
    "             {\"Title\": \"Dropping\", \"Type\": \"Packet Speed\", \"Data\": drop_speed, \"Color\": \"rgb(104, 249, 133)\"}]\n",
    "\n",
    "for button_label in buttons_labels:\n",
    "    buttons_data.append(dict(\n",
    "        label = button_label,\n",
    "        method = 'update',\n",
    "        args = [{'visible': updateVisibility(button_label)}]\n",
    "    ))\n",
    "    \n",
    "for plot_datum in plot_data:\n",
    "    data.append(go.Scatter(\n",
    "        x=plot_datum[\"Data\"][\"x\"],\n",
    "        y=plot_datum[\"Data\"][\"y\"],\n",
    "        mode='lines+markers',\n",
    "        line=dict(\n",
    "            color=plot_datum[\"Color\"],\n",
    "            width=1\n",
    "        ),\n",
    "        marker = dict(\n",
    "            size = 1\n",
    "        ),\n",
    "        name=plot_datum[\"Title\"],\n",
    "        text=plot_datum[\"Title\"],\n",
    "        visible=(plot_datum[\"Type\"]=='Total Packets Sent')\n",
    "    ))\n",
    "    \n",
    "\n",
    "updatemenus = list([\n",
    "    dict(active=0,\n",
    "         buttons= buttons_data,\n",
    "         direction = 'down',\n",
    "         pad = {'r': 10, 't': 10},\n",
    "         showactive = True,\n",
    "         x = 0,\n",
    "         xanchor = 'center',\n",
    "         y = 1.3,\n",
    "         yanchor = 'top'\n",
    "    )\n",
    "])\n",
    "    \n",
    "layout = dict(\n",
    "    title='Packet Monitoring',\n",
    "    updatemenus = updatemenus,\n",
    "    xaxis=dict(\n",
    "        title='Time (seconds)',\n",
    "        rangeslider=dict(),\n",
    "        autorange=True\n",
    "    ),\n",
    ")\n",
    "\n",
    "fig = dict(data=data, layout=layout)\n",
    "iplot(fig)"
   ]
  },
  {
   "cell_type": "code",
   "execution_count": null,
   "metadata": {},
   "outputs": [],
   "source": [
    "plot(fig, filename='chart10mins.html')"
   ]
  },
  {
   "cell_type": "markdown",
   "metadata": {},
   "source": [
    "<h1 class=\"section-header\"><a id=\"Classifiers\"></a>Classifiers</h1>"
   ]
  },
  {
   "cell_type": "markdown",
   "metadata": {},
   "source": [
    "<h1><a id=\"Classifiers-a\"></a>A. Feature Extraction</h1>"
   ]
  },
  {
   "cell_type": "markdown",
   "metadata": {},
   "source": [
    "<h2><a id=\"Classifiers-a-i\"></a>i. tsfresh</h2>"
   ]
  },
  {
   "cell_type": "code",
   "execution_count": null,
   "metadata": {},
   "outputs": [],
   "source": [
    "dataframes = [{'data':df_norm, 'y_value':\"Normal\"}, {'data':df_tamper, 'y_value':\"Tamper\"}, {'data':df_dup, 'y_value':\"Duplication\"}, {'data':df_drop, 'y_value':\"Dropping\"}]\n",
    "y_store = []\n",
    "df_store = []\n",
    "sample_id = 0\n",
    "for df_i in range(len(dataframes)):\n",
    "    y_val = dataframes[df_i]['y_value']\n",
    "    for chunk in np.split(np.array(getPacketSpeeds(dataframes[df_i]['data'])), 40):\n",
    "        y_store.append(y_val)\n",
    "        for chunk_i in range(len(chunk)):\n",
    "            df_store.append({'id':sample_id, 'time':chunk_i, 'val':chunk[chunk_i]})\n",
    "        sample_id += 1\n",
    "\n",
    "df = pd.DataFrame(df_store)\n",
    "y = pd.Series(y_store)"
   ]
  },
  {
   "cell_type": "code",
   "execution_count": null,
   "metadata": {
    "scrolled": true
   },
   "outputs": [],
   "source": [
    "df"
   ]
  },
  {
   "cell_type": "code",
   "execution_count": null,
   "metadata": {
    "scrolled": true
   },
   "outputs": [],
   "source": [
    "y"
   ]
  },
  {
   "cell_type": "code",
   "execution_count": null,
   "metadata": {},
   "outputs": [],
   "source": [
    "df[df.id == 6][['time', 'val']].plot(x='time', title='Normal Example', figsize=(8, 2));\n",
    "df[df.id == 50][['time', 'val']].plot(x='time', title='Tamper Example', figsize=(8, 2));\n",
    "df[df.id == 100][['time', 'val']].plot(x='time', title='Duplication Example', figsize=(8, 2));\n",
    "df[df.id == 150][['time', 'val']].plot(x='time', title='Drop Example', figsize=(8, 2));\n",
    "df[df.id == 123][['time', 'val']].plot(x='time', title='???', figsize=(8, 2));"
   ]
  },
  {
   "cell_type": "code",
   "execution_count": null,
   "metadata": {},
   "outputs": [],
   "source": [
    "extraction_settings = ComprehensiveFCParameters()"
   ]
  },
  {
   "cell_type": "code",
   "execution_count": null,
   "metadata": {
    "scrolled": true
   },
   "outputs": [],
   "source": [
    "X = extract_features(df, \n",
    "                     column_id='id', column_sort='time',\n",
    "                     default_fc_parameters=extraction_settings,\n",
    "                     impute_function= impute)"
   ]
  },
  {
   "cell_type": "code",
   "execution_count": null,
   "metadata": {},
   "outputs": [],
   "source": [
    "X.head()"
   ]
  },
  {
   "cell_type": "markdown",
   "metadata": {},
   "source": [
    "<h1><a id=\"Classifiers-b\"></a>B. Feature Filtering</h1>"
   ]
  },
  {
   "cell_type": "markdown",
   "metadata": {},
   "source": [
    "<h2><a id=\"Classifiers-b-i\"></a>i. tsfresh</h2>"
   ]
  },
  {
   "cell_type": "code",
   "execution_count": null,
   "metadata": {},
   "outputs": [],
   "source": [
    "X_filtered = extract_relevant_features(df, y, \n",
    "                                       column_id='id', column_sort='time',\n",
    "                                       default_fc_parameters=extraction_settings)"
   ]
  },
  {
   "cell_type": "code",
   "execution_count": null,
   "metadata": {},
   "outputs": [],
   "source": [
    "X_filtered.head()"
   ]
  },
  {
   "cell_type": "markdown",
   "metadata": {},
   "source": [
    "<h2><a id=\"Classifiers-b-ii\"></a>ii. Select K Best</h2>"
   ]
  },
  {
   "cell_type": "code",
   "execution_count": null,
   "metadata": {},
   "outputs": [],
   "source": [
    "X_filtered_2 = SelectKBest(f_classif, k=50).fit_transform(X_filtered, y)\n",
    "print(X_filtered.shape)\n",
    "print(X_filtered_2.shape)\n",
    "X_filtered_2"
   ]
  },
  {
   "cell_type": "markdown",
   "metadata": {},
   "source": [
    "<h2><a id=\"Classifiers-b-iii\"></a>iii. Principal Component Analysis</h2>"
   ]
  },
  {
   "cell_type": "code",
   "execution_count": null,
   "metadata": {},
   "outputs": [],
   "source": [
    "pca = PCA(n_components=50)\n",
    "X_filtered_3 = pca.fit_transform(X_filtered) \n",
    "X_filtered_3"
   ]
  },
  {
   "cell_type": "markdown",
   "metadata": {},
   "source": [
    "<h1><a id=\"Classifiers-c\"></a>C. Machine Learning Models</h1>"
   ]
  },
  {
   "cell_type": "markdown",
   "metadata": {},
   "source": [
    "<h2><a id=\"Classifiers-c-i\"></a>i. Decision Tree</h2>"
   ]
  },
  {
   "cell_type": "code",
   "execution_count": null,
   "metadata": {},
   "outputs": [],
   "source": [
    "X_train, X_test, X_filtered_train, X_filtered_test, y_train, y_test = train_test_split(X, X_filtered, y, test_size=.4)\n",
    "cl = DecisionTreeClassifier()\n",
    "cl.fit(X_train, y_train)\n",
    "print(classification_report(y_test, cl.predict(X_test)))"
   ]
  },
  {
   "cell_type": "code",
   "execution_count": null,
   "metadata": {},
   "outputs": [],
   "source": [
    "X_train, X_test, X_filtered_train, X_filtered_test, y_train, y_test = train_test_split(X, X_filtered, y, test_size=.4)\n",
    "cl2 = DecisionTreeClassifier()\n",
    "cl2.fit(X_filtered_train, y_train)\n",
    "print(classification_report(y_test, cl2.predict(X_filtered_test)))"
   ]
  },
  {
   "cell_type": "code",
   "execution_count": null,
   "metadata": {},
   "outputs": [],
   "source": [
    "X_train, X_test, X_filtered_train, X_filtered_test, y_train, y_test = train_test_split(X, X_filtered_2, y, test_size=.4)\n",
    "cl6 = DecisionTreeClassifier()\n",
    "cl6.fit(X_filtered_train, y_train)\n",
    "print(classification_report(y_test, cl6.predict(X_filtered_test)))"
   ]
  },
  {
   "cell_type": "code",
   "execution_count": null,
   "metadata": {},
   "outputs": [],
   "source": [
    "X_train, X_test, X_filtered_train, X_filtered_test, y_train, y_test = train_test_split(X, X_filtered_3, y, test_size=.4)\n",
    "cl6 = DecisionTreeClassifier()\n",
    "cl6.fit(X_filtered_train, y_train)\n",
    "print(classification_report(y_test, cl6.predict(X_filtered_test)))"
   ]
  },
  {
   "cell_type": "markdown",
   "metadata": {},
   "source": [
    "<h2><a id=\"Classifiers-c-ii\"></a>ii. Multilayer Perceptron (Neural Network)</h2>"
   ]
  },
  {
   "cell_type": "code",
   "execution_count": null,
   "metadata": {},
   "outputs": [],
   "source": [
    "X_train, X_test, X_filtered_train, X_filtered_test, y_train, y_test = train_test_split(X, X_filtered, y, test_size=.4)\n",
    "scaler = StandardScaler()  \n",
    "scaler.fit(X_filtered_train) \n",
    "cl5 = MLPClassifier(solver='lbfgs', alpha=1e-5,\n",
    "                    hidden_layer_sizes=(5, 2), random_state=1)\n",
    "cl5.fit(scaler.transform(X_filtered_train), y_train)\n",
    "print(classification_report(y_test, cl5.predict(scaler.transform(X_filtered_test))))"
   ]
  },
  {
   "cell_type": "markdown",
   "metadata": {},
   "source": [
    "<h2><a id=\"Classifiers-c-iii\"></a>iii. SVC</h2>"
   ]
  },
  {
   "cell_type": "code",
   "execution_count": null,
   "metadata": {},
   "outputs": [],
   "source": [
    "X_train, X_test, X_filtered_train, X_filtered_test, y_train, y_test = train_test_split(X, X_filtered, y, test_size=.4)\n",
    "cl8 = SVC(gamma='scale')\n",
    "cl8.fit(X_train, y_train)\n",
    "print(classification_report(y_test, cl8.predict(X_test)))"
   ]
  },
  {
   "cell_type": "markdown",
   "metadata": {},
   "source": [
    "<h2><a id=\"Classifiers-c-iv\"></a>iv. Logistic Regression</h2>"
   ]
  },
  {
   "cell_type": "code",
   "execution_count": null,
   "metadata": {},
   "outputs": [],
   "source": [
    "X_train, X_test, X_filtered_train, X_filtered_test, y_train, y_test = train_test_split(X, X_filtered, y, test_size=.4)\n",
    "cl9 = LogisticRegression(random_state=0, solver='lbfgs',\n",
    "                         multi_class='multinomial').fit(X_filtered_train, y_train)\n",
    "print(classification_report(y_test, cl9.predict(X_filtered_test)))"
   ]
  },
  {
   "cell_type": "markdown",
   "metadata": {},
   "source": [
    "<h2><a id=\"Classifiers-c-v\"></a>v. K Nearest Neighbors</h2>"
   ]
  },
  {
   "cell_type": "code",
   "execution_count": null,
   "metadata": {},
   "outputs": [],
   "source": [
    "avg_precision = []\n",
    "avg_recall = []\n",
    "for k in range(2, 20):\n",
    "    print(\"Testing k =\", k)\n",
    "    precision_scores = []\n",
    "    recall_scores = []\n",
    "    for i in range(1000):\n",
    "        X_train, X_test, X_filtered_train, X_filtered_test, y_train, y_test = train_test_split(X, X_filtered, y, test_size=.4)\n",
    "        cl10 = KNeighborsClassifier(n_neighbors=k)\n",
    "        cl10.fit(X_filtered_train, y_train)\n",
    "        precision_scores.append(precision_score(y_test, cl10.predict(X_filtered_test), average=\"weighted\"))\n",
    "        recall_scores.append(recall_score(y_test, cl10.predict(X_filtered_test), average=\"weighted\"))\n",
    "    avg_precision.append(np.array(precision_scores).mean())\n",
    "    avg_recall.append(np.array(recall_scores).mean())  "
   ]
  },
  {
   "cell_type": "code",
   "execution_count": null,
   "metadata": {},
   "outputs": [],
   "source": [
    "plt.title('kNearest Neighors Accuracy by k')\n",
    "plt.scatter(range(2, 20), avg_precision, label=\"avg precision\")\n",
    "plt.scatter(range(2, 20), avg_recall, label=\"avg recall\")\n",
    "plt.xticks(range(0, 20))\n",
    "plt.xlabel(\"k value\")\n",
    "plt.ylabel(\"accuracy\")\n",
    "plt.legend()\n",
    "plt.show()"
   ]
  },
  {
   "cell_type": "code",
   "execution_count": null,
   "metadata": {},
   "outputs": [],
   "source": [
    "X_train, X_test, X_filtered_train, X_filtered_test, y_train, y_test = train_test_split(X, X_filtered, y, test_size=.4)\n",
    "cl10 = KNeighborsClassifier(n_neighbors=2)\n",
    "cl10.fit(X_filtered_train, y_train)\n",
    "print(classification_report(y_test, cl10.predict(X_filtered_test)))"
   ]
  },
  {
   "cell_type": "markdown",
   "metadata": {},
   "source": [
    "<h2><a id=\"Classifiers-c-vi\"></a>vi. Random Forests</h2>"
   ]
  },
  {
   "cell_type": "code",
   "execution_count": null,
   "metadata": {},
   "outputs": [],
   "source": [
    "avg_precision = []\n",
    "avg_recall = []\n",
    "for n in range(2, 20):\n",
    "    print(\"Testing n =\", n)\n",
    "    precision_scores = []\n",
    "    recall_scores = []\n",
    "    for i in range(1000):\n",
    "        X_train, X_test, X_filtered_train, X_filtered_test, y_train, y_test = train_test_split(X, X_filtered, y, test_size=.4)\n",
    "        cl11 = RandomForestClassifier(n_estimators=n, max_depth=None,\n",
    "                                      min_samples_split=2)\n",
    "        cl11.fit(X_filtered_train, y_train)\n",
    "        precision_scores.append(precision_score(y_test, cl11.predict(X_filtered_test), average=\"weighted\"))\n",
    "        recall_scores.append(recall_score(y_test, cl11.predict(X_filtered_test), average=\"weighted\"))\n",
    "    avg_precision.append(np.array(precision_scores).mean())\n",
    "    avg_recall.append(np.array(recall_scores).mean())  "
   ]
  },
  {
   "cell_type": "code",
   "execution_count": null,
   "metadata": {},
   "outputs": [],
   "source": [
    "plt.title('Random Forests Accuracy by n estimators')\n",
    "plt.scatter(range(2, 20), avg_precision, label=\"avg precision\")\n",
    "plt.scatter(range(2, 20), avg_recall, label=\"avg recall\")\n",
    "plt.xticks(range(0, 20))\n",
    "plt.xlabel(\"n value\")\n",
    "plt.ylabel(\"accuracy\")\n",
    "plt.legend()\n",
    "plt.show()"
   ]
  },
  {
   "cell_type": "code",
   "execution_count": null,
   "metadata": {},
   "outputs": [],
   "source": [
    "X_train, X_test, X_filtered_train, X_filtered_test, y_train, y_test = train_test_split(X, X_filtered, y, test_size=.4)\n",
    "cl11 = RandomForestClassifier(n_estimators=18, max_depth=None,\n",
    "                              min_samples_split=2, random_state=0)\n",
    "cl11.fit(X_filtered_train, y_train)\n",
    "print(classification_report(y_test, cl11.predict(X_filtered_test)))"
   ]
  },
  {
   "cell_type": "markdown",
   "metadata": {},
   "source": [
    "<h2><a id=\"Classifiers-c-vii\"></a>vii. K Nearest Neighbors + Random Forests Voting</h2>"
   ]
  },
  {
   "cell_type": "code",
   "execution_count": null,
   "metadata": {},
   "outputs": [],
   "source": [
    "X_train, X_test, X_filtered_train, X_filtered_test, y_train, y_test = train_test_split(X, X_filtered, y, test_size=.4)\n",
    "cl10 = KNeighborsClassifier(n_neighbors=2)\n",
    "cl11 = RandomForestClassifier(n_estimators=18, max_depth=None,\n",
    "                              min_samples_split=2)\n",
    "cl12 = VotingClassifier(estimators=[('lr', cl10), ('rf', cl11)],\n",
    "                        voting='soft')\n",
    "cl12.fit(X_filtered_train, y_train)\n",
    "print(classification_report(y_test, cl12.predict(X_filtered_test)))"
   ]
  },
  {
   "cell_type": "markdown",
   "metadata": {},
   "source": [
    "<h1 class=\"section-header\"><a id=\"Results\"></a>Results</h1>"
   ]
  },
  {
   "cell_type": "markdown",
   "metadata": {},
   "source": [
    "<h1><a id=\"Results-a\"></a>A. Decision Tree</h1>"
   ]
  },
  {
   "cell_type": "code",
   "execution_count": null,
   "metadata": {},
   "outputs": [],
   "source": [
    "all_times = {}\n",
    "precision_scores = []\n",
    "recall_scores = []\n",
    "times = []\n",
    "for i in range(1000):\n",
    "    X_train, X_test, X_filtered_train, X_filtered_test, y_train, y_test = train_test_split(X, X_filtered, y, test_size=.4)\n",
    "    cl = DecisionTreeClassifier()\n",
    "    cl.fit(X_train, y_train)\n",
    "    start = time.time()\n",
    "    precision_scores.append(precision_score(y_test, cl.predict(X_test), average=\"weighted\"))\n",
    "    end = time.time()\n",
    "    times.append(end-start)\n",
    "    recall_scores.append(recall_score(y_test, cl.predict(X_test), average=\"weighted\"))\n",
    "precision_scores = np.array(precision_scores)\n",
    "recall_scores = np.array(recall_scores)"
   ]
  },
  {
   "cell_type": "code",
   "execution_count": null,
   "metadata": {},
   "outputs": [],
   "source": [
    "plt.figure(figsize=(15,6))\n",
    "plt.subplot(1, 2, 1)\n",
    "plt.hist(precision_scores)\n",
    "plt.axvline(precision_scores.mean(), color='r', linestyle='dashed', linewidth=2)\n",
    "plt.title(\"Unfiltered Features - Decision Tree - Precision\")\n",
    "plt.subplot(1, 2, 2)\n",
    "plt.hist(recall_scores)\n",
    "plt.axvline(recall_scores.mean(), color='r', linestyle='dashed', linewidth=2)\n",
    "plt.title(\"Unfiltered Features - Decision Tree - Recall\")\n",
    "plt.show()"
   ]
  },
  {
   "cell_type": "code",
   "execution_count": null,
   "metadata": {},
   "outputs": [],
   "source": [
    "plt.figure(figsize=(15,6))\n",
    "plt.subplot(1, 2, 1)\n",
    "plt.hist(times)\n",
    "plt.axvline(mean(times), color='r', linestyle='dashed', linewidth=2)\n",
    "plt.title(\"Unfiltered Features - Decision Tree - Times\")\n",
    "plt.show()\n",
    "all_times.update({\"Unfiltered Features - Decision Tree - Times\":mean(times)})"
   ]
  },
  {
   "cell_type": "code",
   "execution_count": null,
   "metadata": {},
   "outputs": [],
   "source": [
    "precision_scores = []\n",
    "recall_scores = []\n",
    "times = []\n",
    "for i in range(1000):\n",
    "    X_train, X_test, X_filtered_train, X_filtered_test, y_train, y_test = train_test_split(X, X_filtered, y, test_size=.4)\n",
    "    cl2 = DecisionTreeClassifier()\n",
    "    cl2.fit(X_filtered_train, y_train)\n",
    "    start = time.time()\n",
    "    precision_scores.append(precision_score(y_test, cl2.predict(X_filtered_test), average=\"weighted\"))\n",
    "    end = time.time()\n",
    "    times.append(end-start)\n",
    "    recall_scores.append(recall_score(y_test, cl2.predict(X_filtered_test), average=\"weighted\"))\n",
    "precision_scores = np.array(precision_scores)\n",
    "recall_scores = np.array(recall_scores)"
   ]
  },
  {
   "cell_type": "code",
   "execution_count": null,
   "metadata": {},
   "outputs": [],
   "source": [
    "plt.figure(figsize=(15,6))\n",
    "plt.subplot(1, 2, 1)\n",
    "plt.hist(precision_scores)\n",
    "plt.axvline(precision_scores.mean(), color='r', linestyle='dashed', linewidth=2)\n",
    "plt.title(\"Filtered Features - Decision Tree - Precision\")\n",
    "plt.subplot(1, 2, 2)\n",
    "plt.hist(recall_scores)\n",
    "plt.axvline(recall_scores.mean(), color='r', linestyle='dashed', linewidth=2)\n",
    "plt.title(\"Filtered Features - Decision Tree - Recall\")\n",
    "plt.show()"
   ]
  },
  {
   "cell_type": "code",
   "execution_count": null,
   "metadata": {},
   "outputs": [],
   "source": [
    "plt.figure(figsize=(15,6))\n",
    "plt.subplot(1, 2, 1)\n",
    "plt.hist(times)\n",
    "plt.axvline(mean(times), color='r', linestyle='dashed', linewidth=2)\n",
    "plt.title(\"Filtered Features - Decision Tree - Times\")\n",
    "plt.show()\n",
    "all_times.update({\"Filtered Features - Decision Tree - Times\" : mean(times)})"
   ]
  },
  {
   "cell_type": "code",
   "execution_count": null,
   "metadata": {},
   "outputs": [],
   "source": [
    "precision_scores = []\n",
    "recall_scores = []\n",
    "times = []\n",
    "for i in range(1000):\n",
    "    X_train, X_test, X_filtered_train, X_filtered_test, y_train, y_test = train_test_split(X, X_filtered_2, y, test_size=.4)\n",
    "    cl6 = DecisionTreeClassifier()\n",
    "    cl6.fit(X_filtered_train, y_train)\n",
    "    start = time.time()\n",
    "    precision_scores.append(precision_score(y_test, cl6.predict(X_filtered_test), average=\"weighted\"))\n",
    "    end = time.time()\n",
    "    times.append(end-start)\n",
    "    recall_scores.append(recall_score(y_test, cl6.predict(X_filtered_test), average=\"weighted\"))\n",
    "precision_scores = np.array(precision_scores)\n",
    "recall_scores = np.array(recall_scores)"
   ]
  },
  {
   "cell_type": "code",
   "execution_count": null,
   "metadata": {},
   "outputs": [],
   "source": [
    "plt.figure(figsize=(15,6))\n",
    "plt.subplot(1, 2, 1)\n",
    "plt.hist(precision_scores)\n",
    "plt.axvline(precision_scores.mean(), color='r', linestyle='dashed', linewidth=2)\n",
    "plt.title(\"Filtered Features (SelectKBest, k=50) - Decision Tree - Precision\")\n",
    "plt.subplot(1, 2, 2)\n",
    "plt.hist(recall_scores)\n",
    "plt.axvline(recall_scores.mean(), color='r', linestyle='dashed', linewidth=2)\n",
    "plt.title(\"Filtered Features (SelectKBest, k=50) - Decision Tree - Recall\")\n",
    "plt.show()"
   ]
  },
  {
   "cell_type": "code",
   "execution_count": null,
   "metadata": {},
   "outputs": [],
   "source": [
    "plt.figure(figsize=(15,6))\n",
    "plt.subplot(1, 2, 1)\n",
    "plt.hist(times)\n",
    "plt.axvline(mean(times), color='r', linestyle='dashed', linewidth=2)\n",
    "plt.title(\"Filtered Features (SelectKBest, k=50) - Decision Tree - Times\")\n",
    "plt.show()\n",
    "all_times.update({\"Filtered Features (SelectKBest, k=50) - Decision Tree - Times\" : mean(times)})"
   ]
  },
  {
   "cell_type": "code",
   "execution_count": null,
   "metadata": {},
   "outputs": [],
   "source": [
    "precision_scores = []\n",
    "recall_scores = []\n",
    "times = []\n",
    "for i in range(1000):\n",
    "    X_train, X_test, X_filtered_train, X_filtered_test, y_train, y_test = train_test_split(X, X_filtered_3, y, test_size=.4)\n",
    "    cl7 = DecisionTreeClassifier()\n",
    "    cl7.fit(X_filtered_train, y_train)\n",
    "    start = time.time()\n",
    "    precision_scores.append(precision_score(y_test, cl7.predict(X_filtered_test), average=\"weighted\"))\n",
    "    end = time.time()\n",
    "    times.append(end-start)\n",
    "    recall_scores.append(recall_score(y_test, cl7.predict(X_filtered_test), average=\"weighted\"))\n",
    "precision_scores = np.array(precision_scores)\n",
    "recall_scores = np.array(recall_scores)"
   ]
  },
  {
   "cell_type": "code",
   "execution_count": null,
   "metadata": {},
   "outputs": [],
   "source": [
    "plt.figure(figsize=(15,6))\n",
    "plt.subplot(1, 2, 1)\n",
    "plt.hist(precision_scores)\n",
    "plt.axvline(precision_scores.mean(), color='r', linestyle='dashed', linewidth=2)\n",
    "plt.title(\"Filtered Features (PCA, components=50) - Decision Tree - Precision\")\n",
    "plt.subplot(1, 2, 2)\n",
    "plt.hist(recall_scores)\n",
    "plt.axvline(recall_scores.mean(), color='r', linestyle='dashed', linewidth=2)\n",
    "plt.title(\"Filtered Features (PCA, components=50) - Decision Tree - Recall\")\n",
    "plt.show()"
   ]
  },
  {
   "cell_type": "code",
   "execution_count": null,
   "metadata": {},
   "outputs": [],
   "source": [
    "plt.figure(figsize=(15,6))\n",
    "plt.subplot(1, 2, 1)\n",
    "plt.hist(times)\n",
    "plt.axvline(mean(times), color='r', linestyle='dashed', linewidth=2)\n",
    "plt.title(\"Filtered Features (PCA, components=50) - Decision Tree - Times\")\n",
    "plt.show()\n",
    "all_times.update({\"Filtered Features (PCA, components=50) - Decision Tree - Times\" : mean(times)})"
   ]
  },
  {
   "cell_type": "markdown",
   "metadata": {},
   "source": [
    "<h1><a id=\"Results-b\"></a>B. K Nearest Neighbors</h1>"
   ]
  },
  {
   "cell_type": "code",
   "execution_count": null,
   "metadata": {},
   "outputs": [],
   "source": [
    "precision_scores = []\n",
    "recall_scores = []\n",
    "times = []\n",
    "for i in range(1000):\n",
    "    X_train, X_test, X_filtered_train, X_filtered_test, y_train, y_test = train_test_split(X, X_filtered, y, test_size=.4)\n",
    "    cl10 = KNeighborsClassifier(n_neighbors=2)\n",
    "    cl10.fit(X_filtered_train, y_train)\n",
    "    start = time.time()\n",
    "    precision_scores.append(precision_score(y_test, cl10.predict(X_filtered_test), average=\"weighted\"))\n",
    "    end = time.time()\n",
    "    times.append(end-start)\n",
    "    recall_scores.append(recall_score(y_test, cl10.predict(X_filtered_test), average=\"weighted\"))\n",
    "precision_scores = np.array(precision_scores)\n",
    "recall_scores = np.array(recall_scores)"
   ]
  },
  {
   "cell_type": "code",
   "execution_count": null,
   "metadata": {},
   "outputs": [],
   "source": [
    "plt.figure(figsize=(15,6))\n",
    "plt.subplot(1, 2, 1)\n",
    "plt.hist(precision_scores)\n",
    "plt.axvline(precision_scores.mean(), color='r', linestyle='dashed', linewidth=2)\n",
    "plt.title(\"Filtered Features - KNearest Neighbors (k=2) - Precision\")\n",
    "plt.annotate('Mean: '+str(round(precision_scores.mean(), 4)), xy=(0.9, 50), xytext=(0.9, 200), size=16)\n",
    "plt.subplot(1, 2, 2)\n",
    "plt.hist(recall_scores)\n",
    "plt.axvline(recall_scores.mean(), color='r', linestyle='dashed', linewidth=2)\n",
    "plt.title(\"Filtered Features - KNearest Neighbors (k=2) - Recall\")\n",
    "plt.annotate('Mean: '+str(round(recall_scores.mean(), 4)), xy=(0.9, 50), xytext=(0.9, 200), size=16)\n",
    "plt.show()"
   ]
  },
  {
   "cell_type": "code",
   "execution_count": null,
   "metadata": {},
   "outputs": [],
   "source": [
    "plt.figure(figsize=(15,6))\n",
    "plt.subplot(1, 2, 1)\n",
    "plt.hist(times)\n",
    "plt.axvline(mean(times), color='r', linestyle='dashed', linewidth=2)\n",
    "plt.title(\"Filtered Features - KNearest Neighbors (k=2) - Times\")\n",
    "plt.show()\n",
    "all_times.update({\"Filtered Features - KNearest Neighbors (k=2) - Times\" : mean(times)})"
   ]
  },
  {
   "cell_type": "markdown",
   "metadata": {},
   "source": [
    "<h1><a id=\"Results-c\"></a>C. Random Forests</h1>"
   ]
  },
  {
   "cell_type": "code",
   "execution_count": null,
   "metadata": {},
   "outputs": [],
   "source": [
    "precision_scores = []\n",
    "recall_scores = []\n",
    "times = []\n",
    "for i in range(1000):\n",
    "    X_train, X_test, X_filtered_train, X_filtered_test, y_train, y_test = train_test_split(X, X_filtered, y, test_size=.4)\n",
    "    cl11 = RandomForestClassifier(n_estimators=18, max_depth=None,\n",
    "                                  min_samples_split=2)\n",
    "    cl11.fit(X_filtered_train, y_train)\n",
    "    start = time.time()\n",
    "    precision_scores.append(precision_score(y_test, cl11.predict(X_filtered_test), average=\"weighted\"))\n",
    "    end = time.time()\n",
    "    times.append(end-start)\n",
    "    recall_scores.append(recall_score(y_test, cl11.predict(X_filtered_test), average=\"weighted\"))\n",
    "precision_scores = np.array(precision_scores)\n",
    "recall_scores = np.array(recall_scores)"
   ]
  },
  {
   "cell_type": "code",
   "execution_count": null,
   "metadata": {
    "scrolled": false
   },
   "outputs": [],
   "source": [
    "plt.figure(figsize=(15,6))\n",
    "plt.subplot(1, 2, 1)\n",
    "plt.hist(precision_scores)\n",
    "plt.axvline(precision_scores.mean(), color='r', linestyle='dashed', linewidth=2)\n",
    "plt.title(\"Filtered Features - Random Forests (n=18) - Precision\")\n",
    "plt.annotate('Mean: '+str(round(precision_scores.mean(), 4)), xy=(0.9, 50), xytext=(0.9, 200), size=16)\n",
    "plt.subplot(1, 2, 2)\n",
    "plt.hist(recall_scores)\n",
    "plt.axvline(recall_scores.mean(), color='r', linestyle='dashed', linewidth=2)\n",
    "plt.title(\"Filtered Features - Random Forests (n=18) - Recall\")\n",
    "plt.annotate('Mean: '+str(round(recall_scores.mean(), 4)), xy=(0.9, 50), xytext=(0.9, 200), size=16)\n",
    "plt.show()"
   ]
  },
  {
   "cell_type": "code",
   "execution_count": null,
   "metadata": {},
   "outputs": [],
   "source": [
    "plt.figure(figsize=(15,6))\n",
    "plt.subplot(1, 2, 1)\n",
    "plt.hist(times)\n",
    "plt.axvline(mean(times), color='r', linestyle='dashed', linewidth=2)\n",
    "plt.title(\"Filtered Features - Random Forests (n=18) - Times\")\n",
    "plt.show()\n",
    "all_times.update({\"Filtered Features - Random Forests (n=18) - Times\" : mean(times)})"
   ]
  },
  {
   "cell_type": "markdown",
   "metadata": {},
   "source": [
    "<h1><a id=\"Results-d\"></a>D. K Nearest Neighbors + Random Forests Voting</h1>"
   ]
  },
  {
   "cell_type": "code",
   "execution_count": null,
   "metadata": {},
   "outputs": [],
   "source": [
    "precision_scores = np.array([0., 0., 0., 0.])\n",
    "recall_scores = np.array([0., 0., 0., 0.])\n",
    "for i in range(1000):\n",
    "    X_train, X_test, X_filtered_train, X_filtered_test, y_train, y_test = train_test_split(X, X_filtered, y, test_size=.4)\n",
    "    cl10 = KNeighborsClassifier(n_neighbors=2)\n",
    "    cl11 = RandomForestClassifier(n_estimators=18, max_depth=None,\n",
    "                                  min_samples_split=2)\n",
    "    cl12 = VotingClassifier(estimators=[('lr', cl10), ('rf', cl11)],\n",
    "                            voting='soft')\n",
    "    cl12.fit(X_filtered_train, y_train)\n",
    "    precision_scores += precision_score(y_test, cl12.predict(X_filtered_test), average=None)\n",
    "    recall_scores += recall_score(y_test, cl12.predict(X_filtered_test), average=None)\n",
    "print(precision_scores/1000)\n",
    "print(recall_scores/1000)"
   ]
  },
  {
   "cell_type": "code",
   "execution_count": null,
   "metadata": {},
   "outputs": [],
   "source": [
    "precision_scores = []\n",
    "recall_scores = []\n",
    "times = []\n",
    "for i in range(1000):\n",
    "    X_train, X_test, X_filtered_train, X_filtered_test, y_train, y_test = train_test_split(X, X_filtered, y, test_size=.4)\n",
    "    cl10 = KNeighborsClassifier(n_neighbors=2)\n",
    "    cl11 = RandomForestClassifier(n_estimators=18, max_depth=None,\n",
    "                                  min_samples_split=2)\n",
    "    cl12 = VotingClassifier(estimators=[('lr', cl10), ('rf', cl11)],\n",
    "                            voting='soft')\n",
    "    cl12.fit(X_filtered_train, y_train)\n",
    "    start = time.time()\n",
    "    precision_scores.append(precision_score(y_test, cl12.predict(X_filtered_test), average=\"weighted\"))\n",
    "    end = time.time()\n",
    "    times.append(end-start)\n",
    "    recall_scores.append(recall_score(y_test, cl12.predict(X_filtered_test), average=\"weighted\"))\n",
    "precision_scores = np.array(precision_scores)\n",
    "recall_scores = np.array(recall_scores)"
   ]
  },
  {
   "cell_type": "code",
   "execution_count": null,
   "metadata": {},
   "outputs": [],
   "source": [
    "plt.figure(figsize=(15,6))\n",
    "plt.subplot(1, 2, 1)\n",
    "plt.hist(precision_scores)\n",
    "plt.axvline(precision_scores.mean(), color='r', linestyle='dashed', linewidth=2)\n",
    "plt.title(\"Filtered Features - Voting Classifier (kNeighbors + RandomForests) - Precision\")\n",
    "plt.annotate('Mean: '+str(round(precision_scores.mean(), 4)), xy=(0.9, 50), xytext=(0.9, 200), size=16)\n",
    "plt.subplot(1, 2, 2)\n",
    "plt.hist(recall_scores)\n",
    "plt.axvline(recall_scores.mean(), color='r', linestyle='dashed', linewidth=2)\n",
    "plt.title(\"Filtered Features - Random Forests (kNeighbors + RandomForests) - Recall\")\n",
    "plt.annotate('Mean: '+str(round(recall_scores.mean(), 4)), xy=(0.9, 50), xytext=(0.9, 200), size=16)\n",
    "plt.show()"
   ]
  },
  {
   "cell_type": "code",
   "execution_count": null,
   "metadata": {},
   "outputs": [],
   "source": [
    "plt.figure(figsize=(15,6))\n",
    "plt.subplot(1, 2, 1)\n",
    "plt.hist(times)\n",
    "plt.axvline(mean(times), color='r', linestyle='dashed', linewidth=2)\n",
    "plt.title(\"Filtered Features - Random Forests (kNeighbors + RandomForests) - Times\")\n",
    "plt.show()\n",
    "all_times.update({\"Filtered Features - Random Forests (kNeighbors + RandomForests) - Times\" : mean(times)})"
   ]
  },
  {
   "cell_type": "code",
   "execution_count": null,
   "metadata": {},
   "outputs": [],
   "source": [
    "time_df = pd.DataFrame.from_dict(all_times, orient='index', columns=['Times'])\n",
    "print(time_df)\n",
    "time_df.plot.bar()"
   ]
  },
  {
   "cell_type": "markdown",
   "metadata": {},
   "source": [
    "<h1 class=\"section-header\"><a id=\"Thresholds\"></a>Thresholds</h1>"
   ]
  },
  {
   "cell_type": "markdown",
   "metadata": {},
   "source": [
    "<h1><a id=\"Results-c\"></a>Standard Deviation</h1>"
   ]
  },
  {
   "cell_type": "code",
   "execution_count": null,
   "metadata": {},
   "outputs": [],
   "source": [
    "def StandardDeviance(packet_list):\n",
    "    total = 0\n",
    "    for i in range(len(packet_list)):\n",
    "        total += packet_list[i]\n",
    "    mean = total / len(packet_list)\n",
    "    \n",
    "    variance = 0\n",
    "    for i in range(len(packet_list)):\n",
    "        variance += ((packet_list[i] - mean)**2) / len(packet_list)\n",
    "        \n",
    "    standard_deviation = variance**0.5\n",
    "    \n",
    "    return mean, standard_deviation"
   ]
  },
  {
   "cell_type": "code",
   "execution_count": null,
   "metadata": {},
   "outputs": [],
   "source": [
    "norm_speed = {'x': np.arange(0, 600), 'y': getPacketSpeeds(df_norm)}\n",
    "dup_speed = {'x': np.arange(0, 600), 'y': getPacketSpeeds(df_dup)}\n",
    "tamper_speed = {'x': np.arange(0, 600), 'y': getPacketSpeeds(df_tamper)}\n",
    "drop_speed = {'x': np.arange(0, 600), 'y': getPacketSpeeds(df_drop)}\n",
    "\n",
    "data = []\n",
    "buttons_data = []\n",
    "buttons_labels = [\"Packet Speed\"]\n",
    "plot_data = [{\"Title\": \"No Manipulation\", \"Type\": \"Packet Speed\", \"Data\": norm_speed, \"Color\": \"rgb(77, 82, 91)\"}, \n",
    "             {\"Title\": \"Duplication\", \"Type\": \"Packet Speed\", \"Data\": dup_speed, \"Color\": \"rgb(104, 156, 249)\"}, \n",
    "             {\"Title\": \"Tampering\", \"Type\": \"Packet Speed\", \"Data\": tamper_speed, \"Color\": \"rgb(249, 104, 104)\"}, \n",
    "             {\"Title\": \"Dropping\", \"Type\": \"Packet Speed\", \"Data\": drop_speed, \"Color\": \"rgb(104, 249, 133)\"}]\n",
    "\n",
    "for button_label in buttons_labels:\n",
    "    buttons_data.append(dict(\n",
    "        label = button_label,\n",
    "        method = 'update',\n",
    "        args = [{'visible': updateVisibility(button_label)}]\n",
    "    ))\n",
    "    \n",
    "for plot_datum in plot_data:\n",
    "    data.append(go.Scatter(\n",
    "        x=plot_datum[\"Data\"][\"x\"],\n",
    "        y=plot_datum[\"Data\"][\"y\"],\n",
    "        mode='lines+markers',\n",
    "        line=dict(\n",
    "            color=plot_datum[\"Color\"],\n",
    "            width=1\n",
    "        ),\n",
    "        marker = dict(\n",
    "            size = 1\n",
    "        ),\n",
    "        name=plot_datum[\"Title\"],\n",
    "        text=plot_datum[\"Title\"],\n",
    "        visible=(plot_datum[\"Type\"]=='Packet Speed')\n",
    "    ))\n",
    "    \n",
    "\n",
    "updatemenus = list([\n",
    "    dict(active=0,\n",
    "         buttons= buttons_data,\n",
    "         direction = 'down',\n",
    "         pad = {'r': 10, 't': 10},\n",
    "         showactive = True,\n",
    "         x = 0,\n",
    "         xanchor = 'center',\n",
    "         y = 1.3,\n",
    "         yanchor = 'top'\n",
    "    )\n",
    "])\n",
    "\n",
    "thresholds = [\n",
    "    [StandardDeviance(norm_speed['y'])],\n",
    "    [StandardDeviance(dup_speed['y'])],\n",
    "    [StandardDeviance(tamper_speed['y'])],\n",
    "    [StandardDeviance(drop_speed['y'])]\n",
    "]\n",
    "\n",
    "\n",
    "\n",
    "shapes = []\n",
    "\n",
    "for array in thresholds:\n",
    "    r = random.randint(0,255)\n",
    "    g = random.randint(0,255)\n",
    "    b = random.randint(0,255)\n",
    "    print(array)\n",
    "    temp = dict()\n",
    "    temp.update({\n",
    "    'type' : 'line',\n",
    "    'x0' : 0,\n",
    "    'y0': array[0][0] + array[0][1],\n",
    "    'x1': 600,\n",
    "    'y1': array[0][0] + array[0][1],\n",
    "    'line': {\n",
    "        'color':'rgb({},{},{})'.format(r,g,b),\n",
    "        'width':1,\n",
    "        'dash':'dashdot',   \n",
    "        },\n",
    "    })\n",
    "    \n",
    "    temp2 = dict()\n",
    "    temp2.update({\n",
    "    'type' : 'line',\n",
    "    'x0' : 0,\n",
    "    'y0': array[0][0] - array[0][1],\n",
    "    'x1': 600,\n",
    "    'y1': array[0][0] - array[0][1],\n",
    "    'line': {\n",
    "        'color':'rgb({},{},{})'.format(r,g,b),\n",
    "        'width':1,\n",
    "        'dash':'dashdot',   \n",
    "        },\n",
    "    })\n",
    "    \n",
    "    shapes.append(temp)\n",
    "    shapes.append(temp2)\n",
    "\n",
    "    \n",
    "    \n",
    "\n",
    "layout = dict(\n",
    "    title='Packet Monitoring',\n",
    "    updatemenus = updatemenus,\n",
    "    xaxis=dict(\n",
    "        title='Time (seconds)',\n",
    "        rangeslider=dict(),\n",
    "        autorange=True\n",
    "    ),\n",
    "    shapes=shapes\n",
    ")\n",
    "\n",
    "\n",
    "fig = dict(data=data, layout=layout)\n",
    "iplot(fig)"
   ]
  },
  {
   "cell_type": "markdown",
   "metadata": {},
   "source": [
    "<h1><a id=\"Results-c\"></a>Distribution Functions</h1>"
   ]
  },
  {
   "cell_type": "code",
   "execution_count": null,
   "metadata": {},
   "outputs": [],
   "source": [
    "def ZScore(packet_list, standard_deviation=None, mean =None):\n",
    "    z_scores = []\n",
    "    if standard_deviation == None:\n",
    "        mean, standard_deviation = StandardDeviance(packet_list)\n",
    "    for i in range(len(packet_list)):\n",
    "        z_scores.append(((packet_list[i]-mean) / standard_deviation))\n",
    "    return z_scores "
   ]
  },
  {
   "cell_type": "code",
   "execution_count": null,
   "metadata": {},
   "outputs": [],
   "source": [
    "distribution_data = [{'data':norm_speed['y'],\n",
    "                     'title':\"Normal Packets\"},\n",
    "                     {'data':dup_speed['y'],\n",
    "                    'title':\"Duplicated Packets\"},\n",
    "                     {'data':tamper_speed['y'],\n",
    "                    'title':\"Tampered Packets\"},\n",
    "                     {'data':drop_speed['y'],\n",
    "                    'title':\"Dropped Packets\"}]\n",
    "\n",
    "for each in distribution_data:\n",
    "    z_scores = ZScore(each[\"data\"])\n",
    "\n",
    "    trace = go.Histogram(x=z_scores, xbins=dict(start=np.min(z_scores), size=0.25, end=np.max(z_scores)),\n",
    "                       marker=dict(color='rgb(0, 0, 100)'))\n",
    "\n",
    "    layout = go.Layout(\n",
    "        title=\"{} Frequency Counts\".format(each[\"title\"])\n",
    "    )\n",
    "\n",
    "    fig = go.Figure(data=go.Data([trace]), layout=layout)\n",
    "    iplot(fig, filename='{}-freq-counts'.format(each[\"title\"]))"
   ]
  },
  {
   "cell_type": "code",
   "execution_count": null,
   "metadata": {},
   "outputs": [],
   "source": [
    "\n",
    "z_scores = ZScore(norm_speed[\"y\"])\n",
    "sensitivity = 2\n",
    "mean, standard_deviance = StandardDeviance(z_scores)\n",
    "trace = go.Histogram(x=z_scores, xbins=dict(start=np.min(z_scores), size=0.25, end=np.max(z_scores)),\n",
    "                       marker=dict(color='rgb(0, 0, 100)'))\n",
    "layout = {'title':\"Normal Packets Frequency Counts\", 'shapes':[\n",
    "                       {'type':'line',\n",
    "                        'x0': standard_deviance*sensitivity,\n",
    "                        'y0':0,\n",
    "                        'x1': standard_deviance*sensitivity,\n",
    "                        'y1':100},\n",
    "                        \n",
    "                        {'type':'line',\n",
    "                         'x0':-standard_deviance*sensitivity,\n",
    "                         'y0': 0,\n",
    "                         'x1':-standard_deviance*sensitivity,\n",
    "                         'y1':100}]}\n",
    "fig = go.Figure(data=go.Data([trace]), layout=layout)\n",
    "\n",
    "iplot(fig, filename='Normal-freq-counts')"
   ]
  },
  {
   "cell_type": "code",
   "execution_count": null,
   "metadata": {},
   "outputs": [],
   "source": [
    "def FaultChecker(test_data, sensitivity, normal_data=None):\n",
    "    if normal_data == None:\n",
    "        z_scores = ZScore(test_data['y'])\n",
    "        mean, standard_deviance = StandardDeviance(z_scores)\n",
    "        faults, functionals = FaultFinder(z_scores, standard_deviance, sensitivity)\n",
    "        \n",
    "    elif normal_data != None:\n",
    "        z_scores = ZScore(normal_data['y'])\n",
    "        mean, standard_deviance = StandardDeviance(z_scores)\n",
    "        z_scores.extend(ZScore(test_data['y'], mean, standard_deviance))\n",
    "        faults, functionals = FaultFinder(z_scores, standard_deviance, sensitivity)\n",
    "    \n",
    "    '''\n",
    "    functional = go.Histogram(x=functionals, xbins=dict(start=np.min(faults), size=0.25, end=np.max(faults)),\n",
    "                       marker=dict(color='rgb(0, 0, 100)'), opacity = .75)\n",
    "    \n",
    "    fault = go.Histogram(x=faults, xbins=dict(start=np.min(faults), size=0.25, end=np.max(faults)),\n",
    "                       marker=dict(color='rgb(100, 0, 0)'), opacity =.75)\n",
    "    \n",
    "    data = [fault, functional]\n",
    "    \n",
    "    \n",
    "    layout = {'title':\"ZScore Anomaly Detection\",\n",
    "              'shapes':[\n",
    "                       {'type':'line',\n",
    "                        'x0': standard_deviance*sensitivity,\n",
    "                        'y0':0,\n",
    "                        'x1': standard_deviance*sensitivity,\n",
    "                        'y1':100,\n",
    "                        'line': {\n",
    "                             'color':'rgb(100,0,0)',\n",
    "                             'width':4}},\n",
    "                        \n",
    "                        {'type':'line',\n",
    "                         'x0':-standard_deviance*sensitivity,\n",
    "                         'y0': 0,\n",
    "                         'x1':-standard_deviance*sensitivity,\n",
    "                         'y1':100,\n",
    "                         'line': {\n",
    "                             'color':'rgb(100,0,0)',\n",
    "                             'width':4}}]}\n",
    "    \n",
    "    \n",
    "    fig = go.Figure(data=data, layout=layout)\n",
    "\n",
    "    iplot(fig, filename='ZScore Anomaly Detection')\n",
    "    \n",
    "    return faults, functionals\n",
    "    '''\n",
    "def FaultFinder(z_scores, standard_deviance, sensitivity=1):\n",
    "    functional = []\n",
    "    faults = []\n",
    "    for score in z_scores:\n",
    "        if score >= (standard_deviance * sensitivity):\n",
    "            faults.append(score)\n",
    "        elif score <= (-standard_deviance * sensitivity):\n",
    "            faults.append(score)\n",
    "        elif (-standard_deviance*sensitivity) < score < (standard_deviance * sensitivity):\n",
    "            functional.append(score)\n",
    "    return faults, functional"
   ]
  },
  {
   "cell_type": "code",
   "execution_count": null,
   "metadata": {},
   "outputs": [],
   "source": [
    "faults, functionals = FaultChecker(norm_speed,1)\n",
    "print(\"# of Faults: \", len(faults))\n",
    "print(\"# of Functional: \", len(functional))"
   ]
  },
  {
   "cell_type": "code",
   "execution_count": null,
   "metadata": {},
   "outputs": [],
   "source": [
    "df_zscore = pd.DataFrame()\n",
    "faults, functional = FaultChecker(drop_speed, 6, norm_speed)\n",
    "df_zscore['Drop Z'] = faults\n",
    "print(\"# of Faults: \", len(faults))\n",
    "print(\"# of Functional: \", len(functional))"
   ]
  },
  {
   "cell_type": "code",
   "execution_count": null,
   "metadata": {},
   "outputs": [],
   "source": [
    "faults, functional = FaultChecker(tamper_speed, 6, norm_speed)\n",
    "print(\"# of Faults: \", len(faults))\n",
    "print(\"# of Functional: \", len(functional))"
   ]
  },
  {
   "cell_type": "code",
   "execution_count": null,
   "metadata": {},
   "outputs": [],
   "source": [
    "faults, functional = FaultChecker(dup_speed, 6, norm_speed)\n",
    "print(\"# of Faults: \", len(faults))\n",
    "print(\"# of Functional: \", len(functional))"
   ]
  },
  {
   "cell_type": "code",
   "execution_count": null,
   "metadata": {},
   "outputs": [],
   "source": [
    "MACHINE LEARNING TO DETERMINE BASED ON ZSCORE (AGAINST NORM)"
   ]
  },
  {
   "cell_type": "markdown",
   "metadata": {},
   "source": [
    "<h1 class=\"section-header\"><a id=\"Classifiers-Multilabel\"></a>Classifiers (Multilabel)</h1>"
   ]
  },
  {
   "cell_type": "markdown",
   "metadata": {},
   "source": [
    "<h1><a id=\"Classifiers-Multilabel-a\"></a>A. Feature Extraction</h1>"
   ]
  },
  {
   "cell_type": "markdown",
   "metadata": {},
   "source": [
    "<h2><a id=\"Classifiers-Multilabel-a-i\"></a>i. tsfresh</h2>"
   ]
  },
  {
   "cell_type": "code",
   "execution_count": null,
   "metadata": {},
   "outputs": [],
   "source": [
    "# y_value: [Tamper, Duplication, Dropping]\n",
    "\n",
    "dataframes = [{'data':df_norm, 'y_value':[0, 0, 0]}, \n",
    "              {'data':df_tamper, 'y_value':[1, 0, 0]}, \n",
    "              {'data':df_dup, 'y_value':[0, 1, 0]}, \n",
    "              {'data':df_drop, 'y_value':[0, 0, 1]}, \n",
    "              {'data':df_dup_drop, 'y_value':[0, 1, 1]}, \n",
    "              {'data':df_dup_tamper, 'y_value':[1, 1, 0]},\n",
    "              {'data':df_drop_tamper, 'y_value':[1, 0, 1]},\n",
    "              {'data':df_drop_dup_tamper, 'y_value':[1, 1, 1]}]\n",
    "y_store = []\n",
    "df_store = []\n",
    "sample_id = 0\n",
    "for df_i in range(len(dataframes)):\n",
    "    y_val = dataframes[df_i]['y_value']\n",
    "    for chunk in np.split(np.array(getPacketSpeeds(dataframes[df_i]['data'])), 40):\n",
    "        y_store.append(y_val)\n",
    "        for chunk_i in range(len(chunk)):\n",
    "            df_store.append({'id':sample_id, 'time':chunk_i, 'val':chunk[chunk_i]})\n",
    "        sample_id += 1\n",
    "\n",
    "df = pd.DataFrame(df_store)\n",
    "y = np.array(y_store)"
   ]
  },
  {
   "cell_type": "code",
   "execution_count": null,
   "metadata": {
    "scrolled": true
   },
   "outputs": [],
   "source": [
    "df"
   ]
  },
  {
   "cell_type": "code",
   "execution_count": null,
   "metadata": {},
   "outputs": [],
   "source": [
    "y"
   ]
  },
  {
   "cell_type": "code",
   "execution_count": null,
   "metadata": {
    "scrolled": true
   },
   "outputs": [],
   "source": [
    "y_str = pd.Series([(str(l[0])+str(l[1])+str(l[2])) for l in y])\n",
    "y_str"
   ]
  },
  {
   "cell_type": "code",
   "execution_count": null,
   "metadata": {},
   "outputs": [],
   "source": [
    "extraction_settings = ComprehensiveFCParameters()"
   ]
  },
  {
   "cell_type": "code",
   "execution_count": null,
   "metadata": {},
   "outputs": [],
   "source": [
    "X = extract_features(df, \n",
    "                     column_id='id', column_sort='time',\n",
    "                     default_fc_parameters=extraction_settings,\n",
    "                     impute_function= impute)"
   ]
  },
  {
   "cell_type": "code",
   "execution_count": null,
   "metadata": {},
   "outputs": [],
   "source": [
    "X.head()"
   ]
  },
  {
   "cell_type": "markdown",
   "metadata": {},
   "source": [
    "<h1><a id=\"Classifiers-Multilabel-b\"></a>B. Feature Filtering</h1>"
   ]
  },
  {
   "cell_type": "markdown",
   "metadata": {},
   "source": [
    "<h2><a id=\"Classifiers-Multilabel-b-i\"></a>i. tsfresh</h2>"
   ]
  },
  {
   "cell_type": "code",
   "execution_count": null,
   "metadata": {},
   "outputs": [],
   "source": [
    "X_filtered = extract_relevant_features(df, y_str, \n",
    "                                       column_id='id', column_sort='time',\n",
    "                                       default_fc_parameters=extraction_settings)"
   ]
  },
  {
   "cell_type": "code",
   "execution_count": null,
   "metadata": {},
   "outputs": [],
   "source": [
    "X_filtered.head()"
   ]
  },
  {
   "cell_type": "markdown",
   "metadata": {},
   "source": [
    "<h1><a id=\"Classifiers-Multilabel-c\"></a>C. Machine Learning Models</h1>"
   ]
  },
  {
   "cell_type": "code",
   "execution_count": null,
   "metadata": {},
   "outputs": [],
   "source": [
    "def multilabel_score(X, Y):\n",
    "    \"\"\" \n",
    "    Returns scoring metrics for multilabel classification results\n",
    "    Returns dictionary with the following information\n",
    "    All Correct: The proportion of samples where all the labels were identified correctly\n",
    "    Average Accuracy: The proportion of all labels that were correctly identified\n",
    "    Normal vs. Threat Accuracy: The proportion of labels where Normal vs. Threat was correctly distinguished   \n",
    "    \n",
    "    Parameters\n",
    "    X: ndarray of predictions\n",
    "    Y: ndarray of answers\n",
    "    \"\"\"\n",
    "    if (X.shape != Y.shape):\n",
    "        return \"ERROR: X and Y do not have the same dimensions\"\n",
    "    \n",
    "    class_accuracies = {}\n",
    "    class_totals = {}\n",
    "    \n",
    "    length = X.shape[0]\n",
    "    width = X.shape[1]\n",
    "    total_correct = 0\n",
    "    all_correct = 0\n",
    "    normal_threat_correct = 0\n",
    "    for length_i in range(length):\n",
    "        class_code = str(Y[length_i][0])+str(Y[length_i][1])+str(Y[length_i][2])\n",
    "        class_code_x = str(X[length_i][0])+str(X[length_i][1])+str(X[length_i][2])\n",
    "        if (class_code not in class_accuracies):\n",
    "            class_accuracies[class_code] = {}\n",
    "            class_totals[class_code] = 0\n",
    "        if (class_code_x not in class_accuracies[class_code]):\n",
    "            class_accuracies[class_code][class_code_x] = 0\n",
    "        class_totals[class_code] += 1\n",
    "        class_accuracies[class_code][class_code_x] += 1\n",
    "        if (np.array_equal(X[length_i], Y[length_i])):\n",
    "            all_correct += 1\n",
    "        total_correct += np.absolute(X[length_i] == Y[length_i]).sum()\n",
    "        if ((np.sum(X[length_i]) == 0 and np.sum(Y[length_i]) == 0) or \n",
    "            (np.sum(X[length_i]) != 0 and np.sum(Y[length_i]) != 0)):\n",
    "            normal_threat_correct += 1\n",
    "    for class_code in class_accuracies.keys():\n",
    "        for class_code_x in class_accuracies[class_code].keys():\n",
    "            class_accuracies[class_code][class_code_x] = class_accuracies[class_code][class_code_x]/class_totals[class_code]\n",
    "    return {'All Correct': all_correct/length, \n",
    "            'Average Accuracy': total_correct/(length*width), \n",
    "            'Normal vs. Threat Accuracy': normal_threat_correct/length, \n",
    "            'Class Accuracy': class_accuracies}"
   ]
  },
  {
   "cell_type": "code",
   "execution_count": null,
   "metadata": {
    "scrolled": true
   },
   "outputs": [],
   "source": [
    "X_train, X_test, y_train, y_test = train_test_split(X_filtered, y, test_size=0.4)\n",
    "\n",
    "parameters = {'k': range(1,10), 's': list(np.arange(0, 1.01, 0.05))}\n",
    "score = 'f1_macro'\n",
    "\n",
    "clf = GridSearchCV(MLkNN(), parameters, scoring=score)\n",
    "clf.fit(X_filtered, y)\n",
    "\n",
    "print (clf.best_params_, clf.best_score_)"
   ]
  },
  {
   "cell_type": "code",
   "execution_count": null,
   "metadata": {
    "scrolled": true
   },
   "outputs": [],
   "source": [
    "X_train, X_test, y_train, y_test = train_test_split(X_filtered, y, test_size=0.4)\n",
    "\n",
    "classifier = MLkNN(k=3, s=0.5)\n",
    "\n",
    "# train\n",
    "classifier.fit(X_train, y_train)\n",
    "\n",
    "# predict\n",
    "predictions = classifier.predict(X_test)\n",
    "accuracies = multilabel_score(predictions.toarray(), y_test)['Class Accuracy']"
   ]
  },
  {
   "cell_type": "code",
   "execution_count": null,
   "metadata": {},
   "outputs": [],
   "source": []
  },
  {
   "cell_type": "code",
   "execution_count": null,
   "metadata": {},
   "outputs": [],
   "source": [
    "all_correct_scores = []\n",
    "average_accuracy_scores = []\n",
    "normal_threat_accuracy_scores = []\n",
    "for i in range(1000):\n",
    "    X_train, X_test, y_train, y_test = train_test_split(X_filtered, y, test_size=0.4)\n",
    "    classifier = MLkNN(k=3, s=0.5)\n",
    "    classifier.fit(X_train, y_train)\n",
    "    predictions = classifier.predict(X_test)\n",
    "    results = multilabel_score(predictions.toarray(), y_test)\n",
    "    all_correct_scores.append(results['All Correct'])\n",
    "    average_accuracy_scores.append(results['Average Accuracy'])\n",
    "    normal_threat_accuracy_scores.append(results['Normal vs. Threat Accuracy'])\n",
    "all_correct_scores = np.array(all_correct_scores)\n",
    "average_accuracy_scores = np.array(average_accuracy_scores)\n",
    "normal_threat_accuracy_scores = np.array(normal_threat_accuracy_scores)"
   ]
  },
  {
   "cell_type": "code",
   "execution_count": null,
   "metadata": {},
   "outputs": [],
   "source": [
    "plt.figure(figsize=(20,12))\n",
    "plt.subplot(2, 2, 1)\n",
    "plt.hist(all_correct_scores)\n",
    "plt.axvline(all_correct_scores.mean(), color='r', linestyle='dashed', linewidth=2)\n",
    "plt.annotate('Mean: '+str(round(all_correct_scores.mean(), 4)), xy=(0.5, 50), xytext=(0.5, 200), size=16)\n",
    "plt.title(\"Multilabel KNN - All Correct\")\n",
    "plt.subplot(2, 2, 2)\n",
    "plt.hist(average_accuracy_scores)\n",
    "plt.axvline(average_accuracy_scores.mean(), color='r', linestyle='dashed', linewidth=2)\n",
    "plt.annotate('Mean: '+str(round(average_accuracy_scores.mean(), 4)), xy=(0.81, 50), xytext=(0.81, 150), size=16)\n",
    "plt.title(\"Multilabel KNN - Average Accuracy\")\n",
    "plt.subplot(2, 2, 3)\n",
    "plt.hist(normal_threat_accuracy_scores)\n",
    "plt.axvline(normal_threat_accuracy_scores.mean(), color='r', linestyle='dashed', linewidth=2)\n",
    "plt.annotate('Mean: '+str(round(normal_threat_accuracy_scores.mean(), 4)), xy=(0.97, 150), xytext=(0.97, 150), size=16)\n",
    "plt.title(\"Multilabel KNN - Normal vs. Threat Accuracy\")\n",
    "plt.show()"
   ]
  },
  {
   "cell_type": "code",
   "execution_count": null,
   "metadata": {},
   "outputs": [],
   "source": [
    "multilabel_score(np.array([[0,0,0]]), np.array([[0,0,0]]))"
   ]
  },
  {
   "cell_type": "code",
   "execution_count": null,
   "metadata": {},
   "outputs": [],
   "source": [
    "multilabel_score(predictions.toarray(), y_test)"
   ]
  },
  {
   "cell_type": "code",
   "execution_count": null,
   "metadata": {},
   "outputs": [],
   "source": [
    "X_train, X_test, y_train, y_test = train_test_split(X_filtered, y, test_size=0.4)\n",
    "# initialize classifier chains multi-label classifier\n",
    "classifier = ClassifierChain(LogisticRegression())\n",
    "# Training logistic regression model on train data\n",
    "classifier.fit(X_train, y_train)\n",
    "# predict\n",
    "predictions = classifier.predict(X_test)\n",
    "# accuracy\n",
    "multilabel_score(predictions.toarray(), y_test)"
   ]
  },
  {
   "cell_type": "code",
   "execution_count": null,
   "metadata": {},
   "outputs": [],
   "source": [
    "X_train, X_test, y_train, y_test = train_test_split(X_filtered, y, test_size=0.4)\n",
    "# initialize label powerset multi-label classifier\n",
    "classifier = LabelPowerset(LogisticRegression())\n",
    "# train\n",
    "classifier.fit(X_train, y_train)\n",
    "# predict\n",
    "predictions = classifier.predict(X_test)\n",
    "# accuracy\n",
    "multilabel_score(predictions.toarray(), y_test)"
   ]
  },
  {
   "cell_type": "code",
   "execution_count": null,
   "metadata": {},
   "outputs": [],
   "source": [
    "%%html\n",
    "<style>\n",
    ".notebook-title {\n",
    "    text-align: center;\n",
    "    background-color: #124391;\n",
    "    padding: 30px;\n",
    "    color: white;\n",
    "}\n",
    "\n",
    ".section-header {\n",
    "    text-align: center;\n",
    "    background-color: gray;\n",
    "    padding: 30px;\n",
    "    color: white;\n",
    "}\n",
    "\n",
    ".outline {\n",
    "    width: 400px;\n",
    "    margin: auto;\n",
    "}  \n",
    "\n",
    "</style>"
   ]
  }
 ],
 "metadata": {
  "kernelspec": {
   "display_name": "Python 3",
   "language": "python",
   "name": "python3"
  },
  "language_info": {
   "codemirror_mode": {
    "name": "ipython",
    "version": 3
   },
   "file_extension": ".py",
   "mimetype": "text/x-python",
   "name": "python",
   "nbconvert_exporter": "python",
   "pygments_lexer": "ipython3",
   "version": "3.7.0"
  }
 },
 "nbformat": 4,
 "nbformat_minor": 2
}
